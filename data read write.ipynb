{
 "cells": [
  {
   "cell_type": "code",
   "execution_count": 148,
   "metadata": {},
   "outputs": [],
   "source": [
    "import numpy as np\n",
    "\n",
    "def fvecs_read(filename, c_contiguous = True):\n",
    "    fv = np.fromfile(filename, dtype = np.float32)\n",
    "    if fv.size == 0:\n",
    "        return np.zeros((0, 0))\n",
    "    dim = 191\n",
    "    assert dim > 0\n",
    "    fv = fv.reshape(-1, 1 + dim)\n",
    "    if not all(fv.view(np.int32)[:, 0] == dim):\n",
    "        raise IOError(\"Non-uniform vector sizes in \" + filename)\n",
    "    fv = fv[:, 1:]\n",
    "    if c_contiguous:\n",
    "        fv = fv.copy()\n",
    "    return fv\n",
    "    \n",
    "def fvecs_write(data, filename):\n",
    "    n, d = data.shape\n",
    "    data_to_file = np.empty((n, d+1), np.float32)\n",
    "    data_to_file.view(np.int32)[:, 0] = d\n",
    "    data_to_file[:, 1:] = data\n",
    "    data_to_file.tofile(filename)\n",
    "\n"
   ]
  },
  {
   "cell_type": "markdown",
   "metadata": {},
   "source": [
    "Consider an example input ```0400 0000 73d4 0000 c000 0000 7689 eabc 0953 f4be fe99 813d```\n",
    "\n",
    "Each hex digit is 4 bits, so `04` is one byte, `00` the next. My machine is little endian so I read it in using python as uint16 which yields `[4, 0, 54387, 0, 192, 0, 35190, 48362]`. `c000` should be read in little endianness as `00c0` which is 192 or `11000000` in binary. To get that we byteswap and then convert to binary. \n"
   ]
  },
  {
   "cell_type": "code",
   "execution_count": 174,
   "metadata": {},
   "outputs": [],
   "source": [
    "fv = np.fromfile(\"practice.data\", dtype = np.uint16)"
   ]
  },
  {
   "cell_type": "code",
   "execution_count": 175,
   "metadata": {},
   "outputs": [
    {
     "name": "stdout",
     "output_type": "stream",
     "text": [
      "[4, 0, 54387, 0, 192, 0, 35190, 48362, 21257, 48884, 39422, 15745]\n",
      "['0x400', '0x0', '0x73d4', '0x0', '0xc000', '0x0', '0x7689', '0xeabc', '0x953', '0xf4be', '0xfe99', '0x813d']\n"
     ]
    }
   ],
   "source": [
    "print(list(fv))\n",
    "print(list(map(hex, fv.byteswap(inplace=True))))"
   ]
  },
  {
   "cell_type": "code",
   "execution_count": 179,
   "metadata": {},
   "outputs": [
    {
     "data": {
      "text/plain": [
       "array(['0000010000000000', '0000000000000000', '0111001111010100',\n",
       "       '0000000000000000', '1100000000000000', '0000000000000000',\n",
       "       '0111011010001001', '1110101010111100', '0000100101010011',\n",
       "       '1111010010111110', '1111111010011001', '1000000100111101'],\n",
       "      dtype='<U16')"
      ]
     },
     "execution_count": 179,
     "metadata": {},
     "output_type": "execute_result"
    }
   ],
   "source": [
    "dp = np.array([np.binary_repr(x, width=16) for x in fv.byteswap(inplace=True)])\n",
    "dp"
   ]
  },
  {
   "cell_type": "code",
   "execution_count": 181,
   "metadata": {},
   "outputs": [
    {
     "data": {
      "text/plain": [
       "array(['0', '0', '0', '0', '0', '1', '0', '0', '0', '0', '0', '0', '0',\n",
       "       '0', '0', '0', '0', '0', '0', '0', '0', '0', '0', '0', '0', '0',\n",
       "       '0', '0', '0', '0', '0', '0', '0', '1', '1', '1', '0', '0', '1',\n",
       "       '1', '1', '1', '0', '1', '0', '1', '0', '0', '0', '0', '0', '0',\n",
       "       '0', '0', '0', '0', '0', '0', '0', '0', '0', '0', '0', '0', '1',\n",
       "       '1', '0', '0', '0', '0', '0', '0', '0', '0', '0', '0', '0', '0',\n",
       "       '0', '0', '0', '0', '0', '0', '0', '0', '0', '0', '0', '0', '0',\n",
       "       '0', '0', '0', '0', '0', '0', '1', '1', '1', '0', '1', '1', '0',\n",
       "       '1', '0', '0', '0', '1', '0', '0', '1', '1', '1', '1', '0', '1',\n",
       "       '0', '1', '0', '1', '0', '1', '1', '1', '1', '0', '0', '0', '0',\n",
       "       '0', '0', '1', '0', '0', '1', '0', '1', '0', '1', '0', '0', '1',\n",
       "       '1', '1', '1', '1', '1', '0', '1', '0', '0', '1', '0', '1', '1',\n",
       "       '1', '1', '1', '0', '1', '1', '1', '1', '1', '1', '1', '0', '1',\n",
       "       '0', '0', '1', '1', '0', '0', '1', '1', '0', '0', '0', '0', '0',\n",
       "       '0', '1', '0', '0', '1', '1', '1', '1', '0', '1'], dtype='<U1')"
      ]
     },
     "execution_count": 181,
     "metadata": {},
     "output_type": "execute_result"
    }
   ],
   "source": [
    "np.array([list(x) for x in dp]).flatten()"
   ]
  },
  {
   "cell_type": "code",
   "execution_count": null,
   "metadata": {},
   "outputs": [],
   "source": []
  }
 ],
 "metadata": {
  "kernelspec": {
   "display_name": "Python 3",
   "language": "python",
   "name": "python3"
  },
  "language_info": {
   "codemirror_mode": {
    "name": "ipython",
    "version": 3
   },
   "file_extension": ".py",
   "mimetype": "text/x-python",
   "name": "python",
   "nbconvert_exporter": "python",
   "pygments_lexer": "ipython3",
   "version": "3.6.1"
  }
 },
 "nbformat": 4,
 "nbformat_minor": 2
}
