{
 "cells": [
  {
   "cell_type": "code",
   "execution_count": 1,
   "metadata": {},
   "outputs": [],
   "source": [
    "%load_ext autoreload\n",
    "%autoreload 2\n",
    "import torch\n",
    "from networks import AnchorNet, EmbeddingNet, TripletNet\n",
    "from datasets import TripletAudio\n",
    "import numpy as np\n",
    "import pandas as pd"
   ]
  },
  {
   "cell_type": "markdown",
   "metadata": {},
   "source": [
    "#### checks the KNN's rankings of datapoints is correct. i.e. anchor-i dist < anchor-j dist for i < j"
   ]
  },
  {
   "cell_type": "code",
   "execution_count": 2,
   "metadata": {},
   "outputs": [],
   "source": [
    "def dist(x, y):\n",
    "    return (x-y).pow(2).sum()"
   ]
  },
  {
   "cell_type": "code",
   "execution_count": 3,
   "metadata": {
    "scrolled": true
   },
   "outputs": [
    {
     "name": "stdout",
     "output_type": "stream",
     "text": [
      "All Good!\n"
     ]
    }
   ],
   "source": [
    "train_data = torch.from_numpy(np.loadtxt('data/trainData.txt', dtype=np.float32))\n",
    "train_KNN = pd.read_csv('data/trainKNN.csv', index_col=0)\n",
    "# check num elems are same in DF and dataset\n",
    "assert(train_data.shape[0] == train_KNN.shape[0])\n",
    "# #randomly pick 10 rows to check\n",
    "row_indicies = list(range(0,train_KNN.shape[0]))\n",
    "selected_indicies = np.random.choice(row_indicies, size=10, replace=False)\n",
    "# ensure that the ordering of neighbours is correct for that row\n",
    "for index in selected_indicies:\n",
    "    row = train_KNN.iloc[index]\n",
    "    anchor = train_data[index]\n",
    "    for prev, cur in zip(row, row[1:]):\n",
    "        prev_dist = dist(anchor, train_data[prev])\n",
    "        cur_dist = dist(anchor, train_data[cur])\n",
    "        assert(prev_dist < cur_dist)\n",
    "print(\"All Good!\")"
   ]
  },
  {
   "cell_type": "markdown",
   "metadata": {},
   "source": [
    "#### generates triplets and ensures that the anchor-pos distance < anchor-neg distance"
   ]
  },
  {
   "cell_type": "code",
   "execution_count": 4,
   "metadata": {},
   "outputs": [
    {
     "name": "stdout",
     "output_type": "stream",
     "text": [
      "All Good!\n"
     ]
    }
   ],
   "source": [
    "from datasets import TripletAudio\n",
    "dataset = TripletAudio(False, 5, 5, 5)\n",
    "for i, triplet in enumerate(dataset):\n",
    "    anchor, pos, neg = [x.reshape(-1,1) for x in triplet]\n",
    "    assert( ((anchor-pos)**2).sum() - ((anchor-neg)**2).sum() < 0 )\n",
    "print(\"All Good!\")"
   ]
  },
  {
   "cell_type": "markdown",
   "metadata": {},
   "source": [
    "#### Runs two checks for the embedding process:"
   ]
  },
  {
   "cell_type": "code",
   "execution_count": 5,
   "metadata": {},
   "outputs": [
    {
     "name": "stdout",
     "output_type": "stream",
     "text": [
      "All Good!\n"
     ]
    }
   ],
   "source": [
    "#test 1\n",
    "train_data = torch.tensor([[2.],[3.]])\n",
    "anchor = AnchorNet(train_data, 2, 1, True)\n",
    "emb = EmbeddingNet(anchor)\n",
    "expected_output = torch.tensor(5**(1/2) - 1)\n",
    "output = anchor.forward(train_data)[0][0]\n",
    "assert(torch.equal(output, expected_output))\n",
    "#test 2\n",
    "train_data = torch.tensor([[12.],[8.]])\n",
    "anchor = AnchorNet(train_data, 2, 1, True)\n",
    "emb = EmbeddingNet(anchor)\n",
    "expected_output = torch.tensor(170**(1/2) - 1)\n",
    "output = anchor.forward(train_data)[0][0]\n",
    "assert(torch.equal(output, expected_output))\n",
    "print(\"All Good!\")"
   ]
  },
  {
   "cell_type": "code",
   "execution_count": null,
   "metadata": {},
   "outputs": [],
   "source": []
  }
 ],
 "metadata": {
  "kernelspec": {
   "display_name": "Python [conda env:thesis] *",
   "language": "python",
   "name": "conda-env-thesis-py"
  },
  "language_info": {
   "codemirror_mode": {
    "name": "ipython",
    "version": 3
   },
   "file_extension": ".py",
   "mimetype": "text/x-python",
   "name": "python",
   "nbconvert_exporter": "python",
   "pygments_lexer": "ipython3",
   "version": "3.6.8"
  }
 },
 "nbformat": 4,
 "nbformat_minor": 2
}
