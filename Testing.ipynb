{
 "cells": [
  {
   "cell_type": "code",
   "execution_count": 1,
   "metadata": {},
   "outputs": [],
   "source": [
    "# %load_ext autoreload\n",
    "%autoreload 2\n",
    "import torch\n",
    "import numpy as np\n",
    "import pandas as pd"
   ]
  },
  {
   "cell_type": "markdown",
   "metadata": {},
   "source": [
    "#### Checks the KNN's rankings of datapoints is correct. i.e. anchor-i dist < anchor-j dist for i < j"
   ]
  },
  {
   "cell_type": "code",
   "execution_count": 2,
   "metadata": {},
   "outputs": [],
   "source": [
    "def dist(x, y):\n",
    "    return (x-y).pow(2).sum()"
   ]
  },
  {
   "cell_type": "code",
   "execution_count": 3,
   "metadata": {
    "scrolled": true
   },
   "outputs": [
    {
     "name": "stdout",
     "output_type": "stream",
     "text": [
      "All Good!\n"
     ]
    }
   ],
   "source": [
    "from datasets import TripletAudio\n",
    "train_data = torch.from_numpy(np.loadtxt('data/trainData.txt', dtype=np.float32))\n",
    "train_KNN = pd.read_csv('data/trainKNN.csv', index_col=0)\n",
    "# check num elems are same in DF and dataset\n",
    "assert(train_data.shape[0] == train_KNN.shape[0])\n",
    "# #randomly pick 10 rows to check\n",
    "selected_indicies = np.random.choice(list(range(0,train_KNN.shape[0])), size=10, replace=False)\n",
    "# ensure that the ordering of neighbours is correct for that row\n",
    "for index in selected_indicies:\n",
    "    row = train_KNN.iloc[index]\n",
    "    anchor = train_data[index]\n",
    "    for prev, cur in zip(row, row[1:]):\n",
    "        prev_dist = dist(anchor, train_data[prev])\n",
    "        cur_dist = dist(anchor, train_data[cur])\n",
    "        assert(prev_dist < cur_dist)\n",
    "print(\"All Good!\")"
   ]
  },
  {
   "cell_type": "markdown",
   "metadata": {},
   "source": [
    "#### Generates triplets and ensures that the anchor-pos distance < anchor-neg distance"
   ]
  },
  {
   "cell_type": "code",
   "execution_count": 4,
   "metadata": {},
   "outputs": [
    {
     "name": "stdout",
     "output_type": "stream",
     "text": [
      "All Good!\n"
     ]
    }
   ],
   "source": [
    "from datasets import TripletAudio\n",
    "dataset = TripletAudio(False, 5, 5, 5)\n",
    "for i, triplet in enumerate(dataset):\n",
    "    anchor, pos, neg = [x.reshape(-1,1) for x in triplet]\n",
    "    assert( ((anchor-pos)**2).sum() - ((anchor-neg)**2).sum() < 0 )\n",
    "print(\"All Good!\")"
   ]
  },
  {
   "cell_type": "markdown",
   "metadata": {},
   "source": [
    "#### Runs two checks for the embedding process:"
   ]
  },
  {
   "cell_type": "code",
   "execution_count": 268,
   "metadata": {
    "scrolled": true
   },
   "outputs": [
    {
     "name": "stdout",
     "output_type": "stream",
     "text": [
      "All Good!\n"
     ]
    }
   ],
   "source": [
    "from networks import AnchorNet\n",
    "#test batch size 1\n",
    "train_data = torch.tensor([[[2.],[3.]]])\n",
    "anchor = AnchorNet([], 2, 1, True)\n",
    "expected_output = torch.tensor([[5**(1/2) - 1]])\n",
    "output = anchor.forward(train_data)\n",
    "assert(torch.equal(output, expected_output))\n",
    "# test batch size 2\n",
    "train_data = torch.tensor([[[12.],[8.]],[[6.],[9.]]])\n",
    "anchor = AnchorNet(train_data, 2, 1, True)\n",
    "expected_output = torch.tensor([[170**(1/2) - 1], [89**(1/2) - 1]])\n",
    "output = anchor.forward(train_data)\n",
    "assert(torch.equal(output, expected_output))\n",
    "print(\"All Good!\")"
   ]
  },
  {
   "cell_type": "markdown",
   "metadata": {},
   "source": [
    "#### Checks similarity generator "
   ]
  },
  {
   "cell_type": "code",
   "execution_count": 309,
   "metadata": {},
   "outputs": [],
   "source": [
    "from utils import similarity_calculator \n",
    "similarity = similarity_calculator(train_KNN, 5)"
   ]
  },
  {
   "cell_type": "code",
   "execution_count": 328,
   "metadata": {},
   "outputs": [
    {
     "name": "stdout",
     "output_type": "stream",
     "text": [
      "All Good!\n"
     ]
    }
   ],
   "source": [
    "selected_indicies = np.random.choice(list(range(0,train_KNN.shape[0])), size=100, replace=False)\n",
    "for index in selected_indicies:\n",
    "    similarity_indicies = np.where(similarity[index])[0] #indicies from similarity matrix\n",
    "    expected_indicies = np.append(train_KNN.iloc[index][:5], index) #get true KNN's and add index itself\n",
    "    np.testing.assert_array_equal(np.sort(similarity_indicies), np.sort(expected_indicies))\n",
    "print(\"All Good!\")"
   ]
  },
  {
   "cell_type": "markdown",
   "metadata": {},
   "source": [
    "#### Checks the negative triplet selector"
   ]
  },
  {
   "cell_type": "code",
   "execution_count": 590,
   "metadata": {},
   "outputs": [],
   "source": [
    "#mock df to use as the knn dataset\n",
    "mock_df = pd.DataFrame(columns=list(range(0,5)))\n",
    "mock_df.loc[0] = [1,2,5,6,7] #reciprocal neighbours with 1,2. One way with 3\n",
    "mock_df.loc[1] = [0,6,7,8,9] #reciprocal neighbours with 0\n",
    "mock_df.loc[2] = [0,10,11,12,13] #reciprocal neighbours with 0\n",
    "mock_df.loc[3] = [0,15,16,17,18] #one way with 0\n",
    "mock_df.loc[4] = [18,19,20,21,22] #no NN\n",
    "# need to mock remaining for similaritycalc\n",
    "for i in range(5,23):\n",
    "    mock_df.loc[i] = [18,19,20,21,22]"
   ]
  },
  {
   "cell_type": "code",
   "execution_count": 618,
   "metadata": {},
   "outputs": [
    {
     "name": "stdout",
     "output_type": "stream",
     "text": [
      "generating similarity matrix\n",
      "done\n"
     ]
    }
   ],
   "source": [
    "from utils import SemihardNegativeTripletSelector\n",
    "triplet_selector = SemihardNegativeTripletSelector(2.5, mock_df)\n",
    "indicies = np.array([0,1,2,3,4])\n",
    "embeddings = torch.tensor([[5.,5.],[5.,5.], [5.,3.],[7.,6.], [4.,2.5]])"
   ]
  },
  {
   "cell_type": "code",
   "execution_count": 619,
   "metadata": {
    "scrolled": false
   },
   "outputs": [
    {
     "name": "stdout",
     "output_type": "stream",
     "text": [
      "pair [0 1] neg indicies [3, 4]\n",
      "loss values tensor([-2.5000, -4.7500])\n",
      "neg selected None\n",
      "--------\n",
      "pair [0 2] neg indicies [3, 4]\n",
      "loss values tensor([ 1.5000, -0.7500])\n",
      "neg selected 0\n",
      "--------\n",
      "pair [3 0] neg indicies [4]\n",
      "loss values tensor([-13.7500])\n",
      "neg selected None\n",
      "--------\n"
     ]
    }
   ],
   "source": [
    "output = triplet_selector.get_triplets(embeddings, indicies)\n",
    "expected_output = np.array([[0,2,3]])\n",
    "np.testing.assert_array_equal(output, expected_output)"
   ]
  },
  {
   "cell_type": "code",
   "execution_count": 620,
   "metadata": {},
   "outputs": [
    {
     "name": "stdout",
     "output_type": "stream",
     "text": [
      "pair [0 1] neg indicies [3, 4]\n",
      "loss values tensor([-2.5000, -4.7500])\n",
      "neg selected None\n",
      "--------\n",
      "pair [0 2] neg indicies [3, 4]\n",
      "loss values tensor([ 1.5000, -0.7500])\n",
      "neg selected 0\n",
      "--------\n",
      "pair [3 0] neg indicies [4]\n",
      "loss values tensor([-13.7500])\n",
      "neg selected None\n",
      "--------\n"
     ]
    }
   ],
   "source": [
    "output = triplet_selector.get_triplets(embeddings, indicies)\n",
    "expected_output = np.array([[0,2,3]])\n",
    "np.testing.assert_array_equal(output, expected_output)"
   ]
  },
  {
   "cell_type": "code",
   "execution_count": null,
   "metadata": {},
   "outputs": [],
   "source": []
  },
  {
   "cell_type": "code",
   "execution_count": null,
   "metadata": {},
   "outputs": [],
   "source": []
  }
 ],
 "metadata": {
  "kernelspec": {
   "display_name": "Python [conda env:thesis] *",
   "language": "python",
   "name": "conda-env-thesis-py"
  },
  "language_info": {
   "codemirror_mode": {
    "name": "ipython",
    "version": 3
   },
   "file_extension": ".py",
   "mimetype": "text/x-python",
   "name": "python",
   "nbconvert_exporter": "python",
   "pygments_lexer": "ipython3",
   "version": "3.6.8"
  }
 },
 "nbformat": 4,
 "nbformat_minor": 2
}
