{
 "cells": [
  {
   "cell_type": "code",
   "execution_count": 64,
   "metadata": {},
   "outputs": [],
   "source": [
    "# %load_ext autoreload\n",
    "%autoreload 2\n",
    "import torch\n",
    "from datasets import TripletAudio\n",
    "\n",
    "K, MAX_CLOSE_NEG, MAX_FAR_NEG = 5, 15, 15\n",
    "BATCH_SIZE = 1\n",
    "\n",
    "triplet_train_dataset = TripletAudio(True, K, MAX_CLOSE_NEG, MAX_FAR_NEG)\n",
    "triplet_test_dataset = TripletAudio(False, K, MAX_CLOSE_NEG, MAX_FAR_NEG)\n",
    "triplet_train_loader = torch.utils.data.DataLoader(triplet_train_dataset, batch_size=BATCH_SIZE, shuffle=True)\n",
    "triplet_test_loader = torch.utils.data.DataLoader(triplet_test_dataset, batch_size=BATCH_SIZE, shuffle=False)"
   ]
  },
  {
   "cell_type": "code",
   "execution_count": 169,
   "metadata": {},
   "outputs": [],
   "source": [
    "%autoreload 2\n",
    "# Set up the network and training parameters\n",
    "from networks import AnchorNet, EmbeddingNet, TripletNet\n",
    "from losses import TripletLoss\n",
    "import torch.optim as optim\n",
    "from torch.optim import lr_scheduler\n",
    "\n",
    "INPUT_D, OUTPUT_D = 192, 128\n",
    "MARGIN, LEARNING_RATE, N_EPOCHS, LOG_INT = 0.5, 1e-3, 5, 1000\n",
    "\n",
    "#define model\n",
    "anchor_net = AnchorNet(triplet_train_dataset.get_dataset(), INPUT_D, OUTPUT_D)\n",
    "embedding_net = EmbeddingNet(anchor_net)\n",
    "model = TripletNet(embedding_net)\n",
    "\n",
    "loss_fn = TripletLoss(MARGIN)\n",
    "optimizer = optim.Adam(model.parameters(), lr=LEARNING_RATE)\n",
    "scheduler = lr_scheduler.StepLR(optimizer, 8, gamma=0.1, last_epoch=-1)"
   ]
  },
  {
   "cell_type": "code",
   "execution_count": 170,
   "metadata": {},
   "outputs": [
    {
     "name": "stdout",
     "output_type": "stream",
     "text": [
      "Train: [0/48048 (0%)]\tLoss: 1.884448\n",
      "Train: [32000/48048 (67%)]\tLoss: 1.847252\n",
      "Epoch: 1/5. Train set: Average loss: 1.4918\n",
      "Epoch: 1/5. Validation set: Average loss: 0.7237\n",
      "Train: [0/48048 (0%)]\tLoss: 0.774479\n",
      "Train: [32000/48048 (67%)]\tLoss: 0.520802\n",
      "Epoch: 2/5. Train set: Average loss: 0.4837\n",
      "Epoch: 2/5. Validation set: Average loss: 0.3618\n",
      "Train: [0/48048 (0%)]\tLoss: 0.290458\n",
      "Train: [32000/48048 (67%)]\tLoss: 0.344600\n",
      "Epoch: 3/5. Train set: Average loss: 0.3329\n",
      "Epoch: 3/5. Validation set: Average loss: 0.2764\n",
      "Train: [0/48048 (0%)]\tLoss: 0.326188\n",
      "Train: [32000/48048 (67%)]\tLoss: 0.292676\n",
      "Epoch: 4/5. Train set: Average loss: 0.2873\n",
      "Epoch: 4/5. Validation set: Average loss: 0.2419\n",
      "Train: [0/48048 (0%)]\tLoss: 0.241140\n",
      "Train: [32000/48048 (67%)]\tLoss: 0.265485\n",
      "Epoch: 5/5. Train set: Average loss: 0.2637\n",
      "Epoch: 5/5. Validation set: Average loss: 0.2237\n"
     ]
    }
   ],
   "source": [
    "%autoreload 2\n",
    "from trainer import fit\n",
    "fit(triplet_train_loader, triplet_test_loader, model, loss_fn, optimizer, scheduler, N_EPOCHS, {}, LOG_INT)"
   ]
  },
  {
   "cell_type": "markdown",
   "metadata": {},
   "source": [
    "### Online Selection"
   ]
  },
  {
   "cell_type": "code",
   "execution_count": null,
   "metadata": {},
   "outputs": [],
   "source": [
    "# %load_ext autoreload\n",
    "%autoreload 2\n",
    "import torch\n",
    "from datasets import TripletAudio\n",
    "\n",
    "train_dataset = AudioTrainDataset()\n",
    "test_dataset = AudioTestDataset()\n",
    "\n",
    "train_batch_sampler = BalancedBatchSampler(train_dataset.train_labels, n_classes=25, n_samples=K)\n",
    "test_batch_sampler = BalancedBatchSampler(test_dataset.test_labels, n_classes=25, n_samples=K)\n",
    "\n",
    "online_train_loader = torch.utils.data.DataLoader(train_dataset, batch_sampler=train_batch_sampler)\n",
    "online_test_loader = torch.utils.data.DataLoader(test_dataset, batch_sampler=test_batch_sampler)"
   ]
  }
 ],
 "metadata": {
  "kernelspec": {
   "display_name": "Python [conda env:thesis] *",
   "language": "python",
   "name": "conda-env-thesis-py"
  },
  "language_info": {
   "codemirror_mode": {
    "name": "ipython",
    "version": 3
   },
   "file_extension": ".py",
   "mimetype": "text/x-python",
   "name": "python",
   "nbconvert_exporter": "python",
   "pygments_lexer": "ipython3",
   "version": "3.6.8"
  }
 },
 "nbformat": 4,
 "nbformat_minor": 2
}
