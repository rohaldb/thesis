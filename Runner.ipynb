{
 "cells": [
  {
   "cell_type": "code",
   "execution_count": 39,
   "metadata": {
    "code_folding": []
   },
   "outputs": [],
   "source": [
    "# %load_ext autoreload\n",
    "%autoreload 2\n",
    "import torch\n",
    "from recall import Recall\n",
    "from datasets import TripletAudio\n",
    "\n",
    "K, MAX_CLOSE_NEG, MAX_FAR_NEG = 5, 15, 15\n",
    "BATCH_SIZE = 128\n",
    "\n",
    "triplet_train_dataset = TripletAudio(True, K, MAX_CLOSE_NEG, MAX_FAR_NEG)\n",
    " = TripletAudio(False, K, MAX_CLOSE_NEG, MAX_FAR_NEG)\n",
    "triplet_train_loader = torch.utils.data.DataLoader(triplet_train_dataset, batch_size=BATCH_SIZE, shuffle=True)\n",
    "triplet_test_loader = torch.utils.data.DataLoader(triplet_test_dataset, batch_size=BATCH_SIZE, shuffle=False)"
   ]
  },
  {
   "cell_type": "code",
   "execution_count": 157,
   "metadata": {
    "code_folding": []
   },
   "outputs": [
    {
     "name": "stdout",
     "output_type": "stream",
     "text": [
      "initialising model biases\n",
      "done\n"
     ]
    }
   ],
   "source": [
    "%autoreload 2\n",
    "# Set up the network and training parameters\n",
    "from networks import AnchorNet, EmbeddingNet, TripletNet\n",
    "from losses import TripletLoss\n",
    "import torch.optim as optim\n",
    "from recall import Recall\n",
    "from torch.optim import lr_scheduler\n",
    "\n",
    "INPUT_D, OUTPUT_D = 192, 128\n",
    "MARGIN, LEARNING_RATE, N_EPOCHS, LOG_INT, RECALL_NUM_CAND = 0.5, 1e-3, 10, 100, 25\n",
    "\n",
    "#define model\n",
    "anchor_net = AnchorNet(triplet_train_dataset.get_dataset(), INPUT_D, OUTPUT_D)\n",
    "embedding_net = EmbeddingNet(anchor_net)\n",
    "model = TripletNet(embedding_net)\n",
    "\n",
    "loss_fn = TripletLoss(MARGIN)\n",
    "optimizer = optim.Adam(model.parameters(), lr=LEARNING_RATE)\n",
    "scheduler = lr_scheduler.StepLR(optimizer, 8, gamma=0.1, last_epoch=-1)\n",
    "\n",
    "recall = Recall(RECALL_NUM_CAND, K)"
   ]
  },
  {
   "cell_type": "code",
   "execution_count": 158,
   "metadata": {
    "scrolled": true
   },
   "outputs": [
    {
     "name": "stdout",
     "output_type": "stream",
     "text": [
      "Train: [0/48048 (0%)]\tLoss: 33.801556\n",
      "Train: [12800/48048 (27%)]\tLoss: 18.444141\n",
      "Train: [25600/48048 (53%)]\tLoss: 17.540117\n",
      "Train: [38400/48048 (80%)]\tLoss: 13.794197\n",
      "Epoch: 1/10. Train set: Average loss: 15.6334\n",
      "Epoch: 1/10. Validation set: Average loss: 18.9504\n",
      "Train: [0/48048 (0%)]\tLoss: 10.866055\n",
      "Train: [12800/48048 (27%)]\tLoss: 9.506681\n",
      "Train: [25600/48048 (53%)]\tLoss: 8.078267\n",
      "Train: [38400/48048 (80%)]\tLoss: 6.763571\n",
      "Epoch: 2/10. Train set: Average loss: 7.6689\n",
      "Epoch: 2/10. Validation set: Average loss: 9.0134\n",
      "Train: [0/48048 (0%)]\tLoss: 6.106470\n",
      "Train: [12800/48048 (27%)]\tLoss: 4.939356\n",
      "Train: [25600/48048 (53%)]\tLoss: 4.379292\n",
      "Train: [38400/48048 (80%)]\tLoss: 3.775523\n",
      "Epoch: 3/10. Train set: Average loss: 4.2366\n",
      "Epoch: 3/10. Validation set: Average loss: 5.5188\n",
      "Train: [0/48048 (0%)]\tLoss: 5.372194\n",
      "Train: [12800/48048 (27%)]\tLoss: 3.293025\n",
      "Train: [25600/48048 (53%)]\tLoss: 3.118892\n",
      "Train: [38400/48048 (80%)]\tLoss: 2.740443\n",
      "Epoch: 4/10. Train set: Average loss: 2.9650\n",
      "Epoch: 4/10. Validation set: Average loss: 3.9339\n",
      "Train: [0/48048 (0%)]\tLoss: 1.940517\n",
      "Train: [12800/48048 (27%)]\tLoss: 2.602530\n",
      "Train: [25600/48048 (53%)]\tLoss: 2.285442\n",
      "Train: [38400/48048 (80%)]\tLoss: 2.110427\n",
      "Epoch: 5/10. Train set: Average loss: 2.2553\n",
      "Epoch: 5/10. Validation set: Average loss: 3.0598\n",
      "Train: [0/48048 (0%)]\tLoss: 2.627086\n",
      "Train: [12800/48048 (27%)]\tLoss: 2.025179\n",
      "Train: [25600/48048 (53%)]\tLoss: 1.869518\n",
      "Train: [38400/48048 (80%)]\tLoss: 1.814406\n",
      "Epoch: 6/10. Train set: Average loss: 1.8458\n",
      "Epoch: 6/10. Validation set: Average loss: 2.3856\n",
      "Train: [0/48048 (0%)]\tLoss: 1.475846\n",
      "Train: [12800/48048 (27%)]\tLoss: 1.547620\n",
      "Train: [25600/48048 (53%)]\tLoss: 1.578974\n",
      "Train: [38400/48048 (80%)]\tLoss: 1.491067\n",
      "Epoch: 7/10. Train set: Average loss: 1.5081\n",
      "Epoch: 7/10. Validation set: Average loss: 1.9876\n",
      "Train: [0/48048 (0%)]\tLoss: 1.325759\n",
      "Train: [12800/48048 (27%)]\tLoss: 1.411576\n",
      "Train: [25600/48048 (53%)]\tLoss: 1.430647\n",
      "Train: [38400/48048 (80%)]\tLoss: 1.454582\n",
      "Epoch: 8/10. Train set: Average loss: 1.4339\n",
      "Epoch: 8/10. Validation set: Average loss: 1.9554\n",
      "Train: [0/48048 (0%)]\tLoss: 1.407408\n",
      "Train: [12800/48048 (27%)]\tLoss: 1.317906\n",
      "Train: [25600/48048 (53%)]\tLoss: 1.356434\n",
      "Train: [38400/48048 (80%)]\tLoss: 1.451917\n",
      "Epoch: 9/10. Train set: Average loss: 1.4179\n",
      "Epoch: 9/10. Validation set: Average loss: 1.9238\n",
      "Train: [0/48048 (0%)]\tLoss: 1.786764\n",
      "Train: [12800/48048 (27%)]\tLoss: 1.343975\n",
      "Train: [25600/48048 (53%)]\tLoss: 1.345306\n",
      "Train: [38400/48048 (80%)]\tLoss: 1.348150\n",
      "Epoch: 10/10. Train set: Average loss: 1.3547\n",
      "Epoch: 10/10. Validation set: Average loss: 1.8922\n"
     ]
    }
   ],
   "source": [
    "%autoreload 2\n",
    "from trainer import fit\n",
    "fit(triplet_train_loader, triplet_test_loader, model, loss_fn, optimizer, scheduler, N_EPOCHS, {}, LOG_INT)"
   ]
  },
  {
   "cell_type": "code",
   "execution_count": 181,
   "metadata": {
    "scrolled": true
   },
   "outputs": [
    {
     "name": "stdout",
     "output_type": "stream",
     "text": [
      "embedding dataset\n",
      "quantizing dataset\n",
      "done quantizing into 5636 buckets\n",
      "embedding dataset\n",
      "quantizing dataset\n",
      "done quantizing into 1191 buckets\n"
     ]
    },
    {
     "data": {
      "text/plain": [
       "[array([0.8, 0. , 0.4, 0.2, 0.2, 0. , 0.8, 0.6, 0.6, 0. , 0. , 0. , 0.8,\n",
       "        0. , 0.4, 0.8, 0.2, 0.2, 0.2, 0. , 0.2, 0. , 0.4, 0. , 0.2, 0.2,\n",
       "        0.2, 0.8, 0.4, 0.6, 0.8, 0.4, 0. , 0. , 0. , 0. , 0. , 0. , 0. ,\n",
       "        0. , 0.8, 0.2, 0. , 0. , 0.6, 0. , 0.2, 0. , 0. , 0. , 0. , 0.8,\n",
       "        0. , 0.8, 0.8, 0. , 0. , 0. , 0.4, 0.4, 0. , 0.2, 0. , 0. , 0.2,\n",
       "        0.2, 0. , 0. , 0.2, 0.8, 0. , 0. , 0.2, 0. , 0. , 0.4, 0. , 0.8,\n",
       "        0. , 0. , 0.4, 0. , 0.2, 0. , 0. , 0.2, 0.8, 0.8, 0.6, 0.6, 0.4,\n",
       "        0.8, 0.2, 0.8, 0. , 0.8, 0.2, 0.2, 0. , 0. , 0.2, 0.8, 0.6, 0.2,\n",
       "        0.2, 0. , 0. , 0.8, 0.2, 0.4, 0.4, 0. , 0.2, 0.8, 0.6, 0. , 0. ,\n",
       "        0.2, 0.2, 0. , 0. , 0. , 0.2, 0.8, 0.8, 0.6, 0.8, 0. , 0.8, 0.2,\n",
       "        0.4, 0. , 0.4, 0.8, 0.8, 0.8, 0. , 0. , 0. , 0. , 0. , 0.6, 0.8,\n",
       "        0.2, 0.4, 0.8, 0.2, 0. , 0. , 0.8, 0. , 0. , 0.2, 0.4, 0.2, 0.6,\n",
       "        0. , 0. , 0.8, 0. , 0.8, 0.4, 0. , 0.2, 0.4, 0.2, 0.6, 0.2, 0.8,\n",
       "        0.8, 0.2, 0. , 0.4, 0.2, 0. , 0. , 0.8, 0.2, 0. , 0. , 0. , 0. ,\n",
       "        0.2, 0.4, 0.6, 0.8, 0.2, 0.4, 0.6, 0. , 0.8, 0.6, 0. , 0. , 0. ,\n",
       "        0.8, 0. , 0.4, 0. , 0.2, 0.8, 0.4, 0. , 0. , 0.2, 0.2, 0.8, 0.2,\n",
       "        0. , 0. , 0.2, 0.8, 0.2, 0. , 0.6, 0.6, 0.2, 0.8, 0. , 0. , 0. ,\n",
       "        0.6, 0.6, 0.6, 0.2, 0.2, 0. , 0.8, 0.8, 0.4, 0.8, 0. , 0.2, 0.2,\n",
       "        0. , 0. , 0. , 0. , 0. , 0.8, 0.2, 0.2, 0. , 0.6, 0.2, 0.2, 0.8,\n",
       "        0.6, 0. , 0.2, 0.4, 0.8, 0.4, 0.2, 0.2, 0.8, 0. , 0.8, 0.2, 0.8,\n",
       "        0.2, 0.2, 0. , 0. , 0.2, 0.8, 0.8, 0. , 0.8, 0.8, 0. , 0.8, 0.4,\n",
       "        0.4, 0. , 0.2, 0. , 0.2, 0. , 0.8, 0.4, 0. , 0.4, 0.8, 0.2, 0. ,\n",
       "        0.6, 0.4, 0. , 0.8, 0. , 0.4, 0.8, 0.4, 0.2, 0. , 0.2, 0. , 0. ,\n",
       "        0.2, 0.8, 0. , 0. , 0.8, 0. , 0.2, 0.8, 0.6, 0.2, 0. , 0.8, 0. ,\n",
       "        0.4, 0. , 0.8, 0. , 0.6, 0.4, 0.6, 0. , 0. , 0. , 0. , 0.8, 0.6,\n",
       "        0.8, 0. , 0. , 0.4, 0.2, 0.2, 0.8, 0.6, 0.4, 0.6, 0. , 0. , 0. ,\n",
       "        0.4, 0.6, 0. , 0. , 0.2, 0.2, 0.4, 0.8, 0.4, 0.2, 0.6, 0. , 0. ,\n",
       "        0.2, 0.4, 0.6, 0.2, 0.4, 0.6, 0.6, 0.8, 0. , 0. , 0.2, 0. , 0.4,\n",
       "        0.6, 0. , 0. , 0.2, 0.4, 0. , 0.2, 0.6, 0. , 0.2, 0. , 0. , 0.6,\n",
       "        0.2, 0.2, 0. , 0.4, 0. , 0. , 0.6, 0.6, 0. , 0. , 0.2, 0.2, 0.2,\n",
       "        0.4, 0.8, 0. , 0.2, 0.6, 0.2, 0.8, 0.2, 0.8, 0. , 0. , 0. , 0.4,\n",
       "        0.2, 0.6, 0. , 0.2, 0.8, 0.2, 0. , 0.2, 0.6, 0.2, 0.8, 0. , 0. ,\n",
       "        0.6, 0. , 0. , 0.4, 0.8, 0.4, 0. , 0.8, 0.2, 0.4, 0. , 0.2, 0.2,\n",
       "        0.6, 0.8, 0.8, 0. , 0. , 0.8, 0.2, 0.6, 0.8, 0. , 0.2, 0.8, 0.8,\n",
       "        0. , 0.6, 0.2, 0.4, 0.2, 0.4, 0. , 0.4, 0.4, 0. , 0.8, 0.6, 0.8,\n",
       "        0.4, 0.2, 0.4, 0. , 0.2, 0.4, 0.8, 0.2, 0. , 0. , 0.8, 0.6, 0.2,\n",
       "        0.4, 0.2, 0. , 0.8, 0. , 0. , 0. , 0.2, 0. , 0.8, 0.8, 0. , 0.2,\n",
       "        0.8, 0. , 0.4, 0.8, 0.6, 0.4, 0. , 0. , 0.6, 0.4, 0.2, 0. , 0.2,\n",
       "        0.2, 0.2, 0.4, 0.4, 0.8, 0. , 0.2, 0. , 0.8, 0.8, 0.2, 0.4, 0.2,\n",
       "        0.2, 0.2, 0.2, 0.8, 0.8, 0.4, 0. , 0.8, 0. , 0.4, 0. , 0.8, 0. ,\n",
       "        0.8, 0. , 0. , 0. , 0.6, 0.2, 0.4, 0.6, 0.6, 0. , 0.2, 0.2, 0.2,\n",
       "        0.6, 0. , 0. , 0.2, 0. , 0. , 0. , 0. , 0.2, 0. , 0.8, 0. , 0. ,\n",
       "        0.6, 0. , 0.2, 0.8, 0.4, 0.8, 0.8, 0. , 0.2, 0.8, 0.2, 0. , 0.8,\n",
       "        0.2, 0. , 0.2, 0. , 0.6, 0. , 0.2, 0. , 0. , 0.2, 0. , 0. , 0.8,\n",
       "        0.8, 0.6, 0.6, 0.2, 0.4, 0.6, 0.6, 0.2, 0. , 0.6, 0. , 0.8, 0.4,\n",
       "        0.6, 0.2, 0. , 0.2, 0.6, 0.6, 0. , 0.2, 0. , 0.2, 0.6, 0. , 0.8,\n",
       "        0.4, 0.6, 0. , 0. , 0.6, 0.4, 0.2, 0. , 0.4, 0. , 0.8, 0.8, 0.8,\n",
       "        0.2, 0. , 0.8, 0.4, 0.6, 0.4, 0. , 0.6, 0.2, 0.2, 0. , 0. , 0.8,\n",
       "        0. , 0.4, 0.8, 0. , 0. , 0. , 0. , 0.8, 0.4, 0.8, 0. , 0.8, 0.6,\n",
       "        0.4, 0. , 0.2, 0.2, 0.8, 0.4, 0. , 0.4, 0.4, 0. , 0.4, 0.4, 0. ,\n",
       "        0.2, 0.8, 0.6, 0.6, 0.2, 0. , 0. , 0.2, 0.2, 0.8, 0.6, 0.6, 0. ,\n",
       "        0. , 0.8, 0.8, 0. , 0.6, 0.2, 0. , 0. , 0.8, 0.8, 0.8, 0.4, 0. ,\n",
       "        0.4, 0.2, 0.4, 0. , 0. , 0.8, 0.6, 0.2, 0.6, 0. , 0. , 0.6, 0.2,\n",
       "        0. , 0.4, 0.2, 0. , 0.4, 0.2, 0. , 0. , 0.2, 0.8, 0.8, 0. , 0.4,\n",
       "        0.8, 0.8, 0.8, 0.8, 0. , 0. , 0. , 0. , 0.6, 0. , 0. , 0. , 0.2,\n",
       "        0.8, 0.2, 0.2, 0.6, 0.6, 0.2, 0.2, 0.8, 0. , 0.4, 0. , 0. , 0.6,\n",
       "        0.4, 0. , 0. , 0. , 0.2, 0. , 0. , 0.6, 0.8, 0.6, 0.8, 0.8, 0.2,\n",
       "        0. , 0.8, 0.2, 0.6, 0.6, 0. , 0.2, 0.2, 0.8, 0.2, 0.2, 0.2, 0. ,\n",
       "        0.8, 0.4, 0. , 0. , 0.2, 0.2, 0.8, 0.4, 0.8, 0. , 0. , 0. , 0. ,\n",
       "        0.2, 0.2, 0.8, 0.2, 0.8, 0.4, 0.4, 0.8, 0.4, 0. , 0. , 0.2, 0.8,\n",
       "        0.4, 0.8, 0. , 0. , 0.8, 0.2, 0.2, 0.8, 0.8, 0.2, 0. , 0. , 0. ,\n",
       "        0.2, 0. , 0.6, 0.4, 0.6, 0. , 0.2, 0.8, 0.8, 0.8, 0. , 0.2, 0. ,\n",
       "        0.2, 0.2, 0. , 0.8, 0.8, 0.2, 0.2, 0.8, 0. , 0.2, 0.6, 0. , 0. ,\n",
       "        0.6, 0. , 0. , 0.4, 0. , 0.6, 0. , 0.8, 0.6, 0.8, 0.8, 0. , 0. ,\n",
       "        0.2, 0.8, 0. , 0.2, 0.2, 0.8, 0. , 0.8, 0.2, 0. , 0.8, 0.8, 0.4,\n",
       "        0.8, 0. , 0. , 0. , 0. , 0.6, 0. , 0.8, 0. , 0.4, 0.8, 0. , 0.8,\n",
       "        0. , 0.8, 0.8, 0. , 0. , 0.2, 0.8, 0.2, 0. , 0.6, 0. , 0. , 0.4,\n",
       "        0.8, 0.2, 0.8, 0.8, 0. , 0.2, 0.2, 0.8, 0.8, 0.2, 0.8, 0.4, 0.2,\n",
       "        0.8, 0.8, 0.8, 0.6, 0.8, 0. , 0.2, 0.2, 0.4, 0. , 0. , 0.8, 0. ,\n",
       "        0. , 0. , 0.2, 0. , 0.2, 0.4, 0. , 0. , 0. , 0. , 0. , 0.6, 0.4,\n",
       "        0.8, 0. , 0.4, 0.2, 0. , 0.8, 0.8, 0. , 0. , 0.2, 0.8, 0.2, 0. ,\n",
       "        0.8, 0.2, 0. , 0.2, 0.2, 0.6, 0. , 0.4, 0. , 0.8, 0.8, 0.4, 0.8,\n",
       "        0.4, 0.4, 0. , 0. , 0.4, 0. , 0.2, 0.8, 0.2, 0.2, 0.8, 0.2, 0. ,\n",
       "        0.8, 0. , 0. , 0.2, 0.8, 0.8, 0.8, 0.2, 0.4, 0.8, 0. , 0.8, 0.8,\n",
       "        0.6, 0. , 0. , 0.8, 0.6, 0. , 0.4, 0.4, 0. , 0.8, 0. , 0.2, 0. ,\n",
       "        0. , 0.2, 0. , 0.8, 0. , 0.8, 0. , 0. , 0. , 0.2, 0. , 0. , 0.2,\n",
       "        0.2, 0. , 0.2, 0.8, 0. , 0. , 0.2, 0.8, 0. , 0.4, 0. , 0.6]),\n",
       " array([0.6, 0.4, 0. , 0.8, 0.2, 0.4, 0. , 0.4, 0.2, 0. , 0.8, 0.6, 0.2,\n",
       "        0.8, 0.4, 0.2, 0.4, 0.6, 0.6, 0. , 0.8, 0.6, 0.2, 0.8, 0. , 0.8,\n",
       "        0.4, 0. , 0.2, 0.4, 0.2, 0. , 0. , 0. , 0. , 0. , 0. , 0. , 0.2,\n",
       "        0.8, 0.2, 0.4, 0.4, 0.8, 0.8, 0. , 0.8, 0.2, 0.4, 0.8, 0.8, 0. ,\n",
       "        0. , 0.8, 0.4, 0.8, 0. , 0. , 0.8, 0.8, 0.8, 0.8, 0.2, 0. , 0.8,\n",
       "        0. , 0. , 0. , 0.2, 0. , 0. , 0.8, 0.6, 0.8, 0. , 0.2, 0.2, 0. ,\n",
       "        0. , 0. , 0. , 0.2, 0. , 0. , 0.2, 0.4, 0.8, 0.8, 0.4, 0.2, 0.8,\n",
       "        0.4, 0.8, 0. , 0.4, 0. , 0.2, 0.6, 0. , 0. , 0.6, 0.6, 0.4, 0.8,\n",
       "        0. , 0.2, 0.6, 0. , 0. , 0. , 0.8, 0. , 0. , 0.4, 0. , 0. , 0.2,\n",
       "        0. , 0. , 0.4, 0.6, 0. , 0. , 0. , 0.2, 0. , 0.8, 0.6, 0.2, 0.8,\n",
       "        0.6, 0. , 0. , 0.4, 0.2, 0.4, 0.2, 0.8, 0.8, 0.2, 0.8, 0.2, 0. ,\n",
       "        0.8, 0.2, 0.6, 0.2, 0.8, 0.4, 0. , 0.8, 0.2, 0.8, 0. , 0. , 0.4,\n",
       "        0.2, 0. , 0.8, 0. , 0.2, 0. , 0.2, 0.8, 0. , 0. , 0. , 0. , 0. ,\n",
       "        0. , 0.2, 0.2, 0. , 0. , 0.8, 0. , 0. , 0.8, 0. , 0. , 0. , 0.4,\n",
       "        0.2, 0. , 0.4, 0.6, 0.2, 0.2, 0. , 0.2, 0.2, 0.6, 0.2, 0.8, 0.2,\n",
       "        0. , 0. , 0. , 0.8, 0. , 0.2, 0.2, 0. , 0. , 0.4, 0. , 0.4, 0.8,\n",
       "        0.2, 0.2, 0. , 0.4, 0.2, 0.8, 0.4, 0.8, 0.2, 0.8, 0.2, 0.2, 0.8,\n",
       "        0.2, 0. , 0.8, 0.4, 0. , 0.8, 0.4, 0.8, 0. , 0.2, 0.4, 0. , 0.2,\n",
       "        0.8, 0. , 0. , 0.4, 0.4, 0. , 0.8, 0. , 0.6, 0.8, 0. , 0.4, 0.8,\n",
       "        0.8, 0.2, 0. , 0.8, 0.8, 0.8, 0. , 0.8, 0.4, 0.8, 0. , 0.2, 0.8,\n",
       "        0.8, 0. , 0.4, 0.4, 0.2, 0.2, 0. , 0.6, 0.2, 0. , 0.2, 0.8, 0.4,\n",
       "        0.2, 0.8, 0. , 0.8, 0.4, 0.8, 0. , 0.4, 0.8, 0.4, 0.6, 0. , 0.8,\n",
       "        0. , 0.8, 0. , 0.4, 0. , 0.6, 0. , 0. , 0.2, 0.2, 0. , 0. , 0.4,\n",
       "        0. , 0. , 0. , 0.6, 0.6, 0.2, 0. , 0. , 0.2, 0.4, 0. , 0.2, 0. ,\n",
       "        0.6, 0. , 0.2, 0.2, 0.2, 0.8, 0. , 0.2, 0. , 0.2, 0.2, 0. , 0. ,\n",
       "        0.2, 0.2, 0.4, 0.6, 0. , 0.6, 0. , 0.6, 0. , 0. , 0. , 0. , 0. ,\n",
       "        0. , 0. , 0.2, 0.6, 0. , 0. , 0.2, 0.4, 0. , 0.8, 0.8, 0.4, 0. ,\n",
       "        0.2, 0.4, 0.8, 0. , 0. , 0. , 0. , 0.2, 0.8, 0. , 0.2, 0.6, 0. ,\n",
       "        0. , 0.2, 0.4, 0. , 0.6, 0.4, 0.2, 0.8, 0.4, 0.4, 0.4, 0. , 0.6,\n",
       "        0. , 0.2, 0.6, 0. , 0.6, 0. , 0. , 0.2, 0.8, 0.4, 0. , 0. , 0.2,\n",
       "        0. , 0.2, 0.2, 0. , 0.2, 0.4, 0.8, 0. , 0. , 0.6, 0. , 0. , 0.2,\n",
       "        0. , 0. , 0.8, 0. , 0.8, 0.8, 0. , 0.8, 0.2, 0. , 0.6, 0. , 0. ,\n",
       "        0. , 0. , 0. , 0. , 0.2, 0.8, 0. , 0.4, 0.6, 0.4, 0.8, 0.4, 0.2,\n",
       "        0. , 0.8, 0. , 0. , 0. , 0. , 0. , 0.2, 0.4, 0.2, 0.4, 0.6, 0.2,\n",
       "        0.4, 0.8, 0.4, 0.2, 0.2, 0. , 0. , 0.2, 0.8, 0.8, 0. , 0.2, 0.6,\n",
       "        0. , 0.2, 0. , 0.2, 0.2, 0. , 0. , 0.2, 0.6, 0. , 0. , 0.2, 0.8,\n",
       "        0.2, 0.6, 0.4, 0. , 0. , 0. , 0.8, 0.2, 0.4, 0.2, 0.2, 0.8, 0. ,\n",
       "        0.2, 0. , 0. , 0.6, 0.6, 0.4, 0. , 0.8, 0. , 0. , 0.2, 0.4, 0. ,\n",
       "        0. , 0.2, 0.8, 0.8, 0. , 0.4, 0.2, 0.4, 0. , 0.2, 0.4, 0.2, 0.2,\n",
       "        0.2, 0. , 0. , 0.8, 0.6, 0. , 0. , 0.2, 0. , 0.2, 0.4, 0. , 0. ,\n",
       "        0.6, 0.6, 0. , 0.2, 0.2, 0.6, 0.4, 0.8, 0.2, 0.8, 0. , 0. , 0. ,\n",
       "        0.4, 0.6, 0. , 0.8, 0.2, 0.4, 0.8, 0.2, 0.6, 0. , 0.4, 0.6, 0. ,\n",
       "        0.8, 0. , 0.6, 0.4, 0. , 0. , 0. , 0. , 0.4, 0.4, 0. , 0.4, 0.8,\n",
       "        0.4, 0.4, 1. , 0.2, 0. , 0. , 0.4, 0.4, 0.6, 0. , 0.8, 0.8, 0. ,\n",
       "        0. , 0.2, 0.6, 0.4, 0.4, 0.2, 0.2, 0. , 0.6, 0. , 0.4, 0.8, 0.2,\n",
       "        0.6, 0.4, 0.2, 0.6, 0.6, 0.8, 0. , 0. , 0.6, 0.8, 0. , 0.4, 0. ,\n",
       "        0.6, 0.6, 0.2, 0. , 0. , 0.4, 0.2, 0.6, 0.8, 0. , 0.2, 1. , 0.2,\n",
       "        0.8, 0.8, 0.4, 0.2, 0. , 0.2, 0.6, 0.2, 0. , 0. , 0. , 0.8, 0.2,\n",
       "        0.2, 0. , 0. , 0.8, 0.6, 0.2, 0.8, 0.2, 0. , 0. , 0.6, 0.4, 0. ,\n",
       "        0. , 0. , 0.4, 0. , 0.6, 0.8, 0.6, 0.6, 0.6, 0. , 0. , 0.8, 0.8,\n",
       "        0.8, 0.4, 0.8, 0.2, 0. , 0. , 0.2, 0.4, 0.4, 0. , 0.4, 0.4, 0. ,\n",
       "        0.4, 0.2, 0. , 0.8, 0.8, 0. , 0.8, 0. , 0. , 0.8, 0. , 0.4, 0.8,\n",
       "        0.4, 0.8, 0.2, 0.2, 0. , 0. , 0.6, 0.6, 0.6, 0.8, 0.2, 0.8, 0. ,\n",
       "        0.2, 0.2, 0.6, 0. , 0.8, 0. , 0. , 0.4, 0. , 0.6, 0. , 0. , 0.8,\n",
       "        0. , 0.4, 0. , 0. , 0. , 0.6, 0.8, 0. , 0.2, 0.2, 0.2, 0.8, 0. ,\n",
       "        0.8, 0.8, 0. , 0.2, 0.2, 0.8, 0.4, 0. , 0.8, 0. , 0. , 0.4, 0. ,\n",
       "        0.2, 0.6, 0.2, 0.2, 0.4, 0. , 0.8, 0.4, 0.2, 0.2, 0.8, 0. , 0. ,\n",
       "        0.4, 0.6, 0. , 0.2, 0. , 0.4, 0. , 0. , 0.2, 0.8, 0.2, 0.8, 0.2,\n",
       "        0.8, 0.4, 0. , 0. , 0.6, 0.2, 0.6, 0.8, 0. , 0. , 0. , 0. , 0.8,\n",
       "        0. , 0. , 0.4, 0.8, 0.2, 0. , 0.8, 0.2, 0. , 0. , 0.4, 0.8, 0.2,\n",
       "        0. , 0. , 0. , 0. , 0.6, 0. , 0.8, 0.4, 0.4, 0. , 0. , 0.2, 0.2,\n",
       "        0.4, 0.8, 0.2, 0.8, 0.2, 0.2, 0. , 0.2, 0.8, 0.4, 0.4, 0.2, 0.2,\n",
       "        0.6, 0. , 0.8, 0.8, 0. , 0. , 0. , 0.6, 0. , 0.8, 0. , 0.2, 0. ,\n",
       "        0. , 0.6, 0.2, 0.2, 0.8, 0.2, 0. , 0.6, 0.4, 0.4, 0. , 0.8, 0.2,\n",
       "        0. , 0.4, 0.8, 0.6, 0.6, 0. , 0.2, 0.8, 0. , 0. , 0. , 0.6, 0.2,\n",
       "        0. , 0. , 0. , 0. , 0. , 0.8, 0. , 0.8, 0.2, 0. , 0.8, 0.6, 0.2,\n",
       "        0.8, 0.6, 0.4, 0.4, 0. , 0.8, 0.6, 0.8, 0.2, 0. , 0. , 0.2, 0.4,\n",
       "        0.8, 0.4, 0. , 0.2, 0. , 0.2, 0. , 0. , 0. , 0. , 0.6, 0. , 0.2,\n",
       "        0. , 0.6, 0.2, 0. , 0.4, 0.4, 0.2, 0.4, 0.2, 0. , 0.4, 0.6, 0.8,\n",
       "        0.2, 0.8, 0.8, 0. , 0. , 0.6, 0.4, 0. , 0.8, 0. , 0.2, 0. , 0.2,\n",
       "        0.2, 0.6, 0. , 0.8, 0.4, 0. , 0. , 0.6, 0.8, 0. , 0.4, 0.8, 0.2,\n",
       "        0.6, 0. , 0. , 0.2, 0.4, 0.8, 0.2, 0. , 0. , 0.2, 0.8, 0.4, 0. ,\n",
       "        0.8, 0. , 0.8, 0.4, 0. , 0.8, 0.8, 0.4, 0. , 0.8, 0.2, 0. , 0. ,\n",
       "        0.8, 0.2, 0.4, 0. , 0.2, 0. , 0. , 0.2, 0.6, 0. , 0.4, 0. , 0. ,\n",
       "        0.6, 0. , 0.6, 0.4, 0.4, 0.8, 0. , 0.6, 0. , 0.4, 0.8, 0. , 0.4,\n",
       "        0.2, 0. , 0.2, 0.8, 0. , 0.2, 0. , 0. , 0. , 0.8, 0.2, 0. , 0.8,\n",
       "        0. , 0.4, 0.6, 0.6, 0. , 0.4, 0. , 0. , 0.2, 0.8, 0. , 0.8])]"
      ]
     },
     "execution_count": 181,
     "metadata": {},
     "output_type": "execute_result"
    }
   ],
   "source": [
    "# perform recall on random batch\n",
    "outputs = []\n",
    "for d in (triplet_train_dataset, triplet_test_dataset):\n",
    "    batch_indicies = np.random.choice(list(range(0, d.get_dataset().shape[0])), 1000, False)\n",
    "    queries = d.get_dataset()[batch_indicies]\n",
    "    true_knns = d.get_KNN().iloc[batch_indicies, :]\n",
    "    outputs.append(recall.calculate(d.get_dataset(), model.embedding_net, queries, true_knns, False))\n",
    "outputs"
   ]
  },
  {
   "cell_type": "markdown",
   "metadata": {},
   "source": [
    "### Online Selection"
   ]
  },
  {
   "cell_type": "code",
   "execution_count": 24,
   "metadata": {
    "code_folding": [
     0
    ]
   },
   "outputs": [],
   "source": [
    "# %load_ext autoreload\n",
    "%autoreload 2\n",
    "import torch\n",
    "from datasets import AudioTrainDataset, AudioTestDataset\n",
    "from datasets import BalancedBatchSampler\n",
    "\n",
    "K = 5\n",
    "train_dataset = AudioTrainDataset(K)\n",
    "test_dataset = AudioTestDataset(K)\n",
    "\n",
    "train_batch_sampler = BalancedBatchSampler(train_dataset)\n",
    "test_batch_sampler = BalancedBatchSampler(test_dataset)\n",
    "\n",
    "online_train_loader = torch.utils.data.DataLoader(train_dataset, batch_sampler=train_batch_sampler)\n",
    "online_test_loader = torch.utils.data.DataLoader(test_dataset, batch_sampler=test_batch_sampler)"
   ]
  },
  {
   "cell_type": "code",
   "execution_count": 33,
   "metadata": {
    "code_folding": [
     0
    ],
    "collapsed": true
   },
   "outputs": [
    {
     "name": "stdout",
     "output_type": "stream",
     "text": [
      "initialising model biases\n",
      "done\n",
      "generating similarity matrix\n",
      "done\n"
     ]
    }
   ],
   "source": [
    "# Set up the network and training parameters\n",
    "from networks import EmbeddingNet, AnchorNet\n",
    "from losses import OnlineTripletLoss\n",
    "from utils import SemihardNegativeTripletSelector, HardestNegativeTripletSelector\n",
    "from metrics import AverageNonzeroTripletsMetric\n",
    "import torch.optim as optim\n",
    "from torch.optim import lr_scheduler\n",
    "\n",
    "INPUT_D, OUTPUT_D = 192, 128\n",
    "MARGIN, LEARNING_RATE, N_EPOCHS, LOG_INT = 0.5, 1e-3, 5, 50\n",
    "\n",
    "#define model\n",
    "anchor_net = AnchorNet(train_dataset.data, INPUT_D, OUTPUT_D)\n",
    "model = EmbeddingNet(anchor_net)\n",
    "loss_fn = OnlineTripletLoss(MARGIN, SemihardNegativeTripletSelector(MARGIN, train_dataset.KNN))\n",
    "optimizer = optim.Adam(model.parameters(), lr=LEARNING_RATE, weight_decay=1e-4)\n",
    "scheduler = lr_scheduler.StepLR(optimizer, 8, gamma=0.1, last_epoch=-1)"
   ]
  },
  {
   "cell_type": "code",
   "execution_count": 36,
   "metadata": {
    "collapsed": true
   },
   "outputs": [
    {
     "ename": "TypeError",
     "evalue": "forward() missing 1 required positional argument: 'indicies'",
     "output_type": "error",
     "traceback": [
      "\u001b[0;31m---------------------------------------------------------------------------\u001b[0m",
      "\u001b[0;31mTypeError\u001b[0m                                 Traceback (most recent call last)",
      "\u001b[0;32m<ipython-input-36-f494e5386b1a>\u001b[0m in \u001b[0;36m<module>\u001b[0;34m\u001b[0m\n\u001b[1;32m      1\u001b[0m \u001b[0mget_ipython\u001b[0m\u001b[0;34m(\u001b[0m\u001b[0;34m)\u001b[0m\u001b[0;34m.\u001b[0m\u001b[0mrun_line_magic\u001b[0m\u001b[0;34m(\u001b[0m\u001b[0;34m'autoreload'\u001b[0m\u001b[0;34m,\u001b[0m \u001b[0;34m'2'\u001b[0m\u001b[0;34m)\u001b[0m\u001b[0;34m\u001b[0m\u001b[0;34m\u001b[0m\u001b[0m\n\u001b[1;32m      2\u001b[0m \u001b[0;32mfrom\u001b[0m \u001b[0mtrainer\u001b[0m \u001b[0;32mimport\u001b[0m \u001b[0mfit\u001b[0m\u001b[0;34m\u001b[0m\u001b[0;34m\u001b[0m\u001b[0m\n\u001b[0;32m----> 3\u001b[0;31m \u001b[0mfit\u001b[0m\u001b[0;34m(\u001b[0m\u001b[0monline_train_loader\u001b[0m\u001b[0;34m,\u001b[0m \u001b[0monline_test_loader\u001b[0m\u001b[0;34m,\u001b[0m \u001b[0mmodel\u001b[0m\u001b[0;34m,\u001b[0m \u001b[0mloss_fn\u001b[0m\u001b[0;34m,\u001b[0m \u001b[0moptimizer\u001b[0m\u001b[0;34m,\u001b[0m \u001b[0mscheduler\u001b[0m\u001b[0;34m,\u001b[0m \u001b[0mN_EPOCHS\u001b[0m\u001b[0;34m,\u001b[0m \u001b[0;34m{\u001b[0m\u001b[0;34m}\u001b[0m\u001b[0;34m,\u001b[0m \u001b[0mLOG_INT\u001b[0m\u001b[0;34m,\u001b[0m \u001b[0mmetrics\u001b[0m\u001b[0;34m=\u001b[0m\u001b[0;34m[\u001b[0m\u001b[0mAverageNonzeroTripletsMetric\u001b[0m\u001b[0;34m(\u001b[0m\u001b[0;34m)\u001b[0m\u001b[0;34m]\u001b[0m\u001b[0;34m)\u001b[0m\u001b[0;34m\u001b[0m\u001b[0;34m\u001b[0m\u001b[0m\n\u001b[0m",
      "\u001b[0;32m~/University/2019/Thesis/code/trainer.py\u001b[0m in \u001b[0;36mfit\u001b[0;34m(train_loader, val_loader, model, loss_fn, optimizer, scheduler, n_epochs, cuda, log_interval, metrics, start_epoch)\u001b[0m\n\u001b[1;32m     24\u001b[0m         \u001b[0mscheduler\u001b[0m\u001b[0;34m.\u001b[0m\u001b[0mstep\u001b[0m\u001b[0;34m(\u001b[0m\u001b[0;34m)\u001b[0m\u001b[0;34m\u001b[0m\u001b[0;34m\u001b[0m\u001b[0m\n\u001b[1;32m     25\u001b[0m         \u001b[0;31m# Train stage\u001b[0m\u001b[0;34m\u001b[0m\u001b[0;34m\u001b[0m\u001b[0;34m\u001b[0m\u001b[0m\n\u001b[0;32m---> 26\u001b[0;31m         \u001b[0mtrain_loss\u001b[0m\u001b[0;34m,\u001b[0m \u001b[0mmetrics\u001b[0m\u001b[0;34m,\u001b[0m \u001b[0mwriter_train_index\u001b[0m \u001b[0;34m=\u001b[0m \u001b[0mtrain_epoch\u001b[0m\u001b[0;34m(\u001b[0m\u001b[0mtrain_loader\u001b[0m\u001b[0;34m,\u001b[0m \u001b[0mmodel\u001b[0m\u001b[0;34m,\u001b[0m \u001b[0mloss_fn\u001b[0m\u001b[0;34m,\u001b[0m \u001b[0moptimizer\u001b[0m\u001b[0;34m,\u001b[0m \u001b[0mcuda\u001b[0m\u001b[0;34m,\u001b[0m \u001b[0mlog_interval\u001b[0m\u001b[0;34m,\u001b[0m \u001b[0mmetrics\u001b[0m\u001b[0;34m,\u001b[0m \u001b[0mwriter\u001b[0m\u001b[0;34m,\u001b[0m \u001b[0mwriter_train_index\u001b[0m\u001b[0;34m)\u001b[0m\u001b[0;34m\u001b[0m\u001b[0;34m\u001b[0m\u001b[0m\n\u001b[0m\u001b[1;32m     27\u001b[0m \u001b[0;34m\u001b[0m\u001b[0m\n\u001b[1;32m     28\u001b[0m         \u001b[0mmessage\u001b[0m \u001b[0;34m=\u001b[0m \u001b[0;34m'Epoch: {}/{}. Train set: Average loss: {:.4f}'\u001b[0m\u001b[0;34m.\u001b[0m\u001b[0mformat\u001b[0m\u001b[0;34m(\u001b[0m\u001b[0mepoch\u001b[0m \u001b[0;34m+\u001b[0m \u001b[0;36m1\u001b[0m\u001b[0;34m,\u001b[0m \u001b[0mn_epochs\u001b[0m\u001b[0;34m,\u001b[0m \u001b[0mtrain_loss\u001b[0m\u001b[0;34m)\u001b[0m\u001b[0;34m\u001b[0m\u001b[0;34m\u001b[0m\u001b[0m\n",
      "\u001b[0;32m~/University/2019/Thesis/code/trainer.py\u001b[0m in \u001b[0;36mtrain_epoch\u001b[0;34m(train_loader, model, loss_fn, optimizer, cuda, log_interval, metrics, writer, writer_train_index)\u001b[0m\n\u001b[1;32m     74\u001b[0m             \u001b[0mloss_inputs\u001b[0m \u001b[0;34m+=\u001b[0m \u001b[0mtarget\u001b[0m\u001b[0;34m\u001b[0m\u001b[0;34m\u001b[0m\u001b[0m\n\u001b[1;32m     75\u001b[0m \u001b[0;34m\u001b[0m\u001b[0m\n\u001b[0;32m---> 76\u001b[0;31m         \u001b[0mloss_outputs\u001b[0m \u001b[0;34m=\u001b[0m \u001b[0mloss_fn\u001b[0m\u001b[0;34m(\u001b[0m\u001b[0;34m*\u001b[0m\u001b[0mloss_inputs\u001b[0m\u001b[0;34m)\u001b[0m\u001b[0;34m\u001b[0m\u001b[0;34m\u001b[0m\u001b[0m\n\u001b[0m\u001b[1;32m     77\u001b[0m \u001b[0;34m\u001b[0m\u001b[0m\n\u001b[1;32m     78\u001b[0m         \u001b[0;31m# # ONLINE GEN\u001b[0m\u001b[0;34m\u001b[0m\u001b[0;34m\u001b[0m\u001b[0;34m\u001b[0m\u001b[0m\n",
      "\u001b[0;32m~/anaconda3/envs/thesis/lib/python3.6/site-packages/torch/nn/modules/module.py\u001b[0m in \u001b[0;36m__call__\u001b[0;34m(self, *input, **kwargs)\u001b[0m\n\u001b[1;32m    491\u001b[0m             \u001b[0mresult\u001b[0m \u001b[0;34m=\u001b[0m \u001b[0mself\u001b[0m\u001b[0;34m.\u001b[0m\u001b[0m_slow_forward\u001b[0m\u001b[0;34m(\u001b[0m\u001b[0;34m*\u001b[0m\u001b[0minput\u001b[0m\u001b[0;34m,\u001b[0m \u001b[0;34m**\u001b[0m\u001b[0mkwargs\u001b[0m\u001b[0;34m)\u001b[0m\u001b[0;34m\u001b[0m\u001b[0;34m\u001b[0m\u001b[0m\n\u001b[1;32m    492\u001b[0m         \u001b[0;32melse\u001b[0m\u001b[0;34m:\u001b[0m\u001b[0;34m\u001b[0m\u001b[0;34m\u001b[0m\u001b[0m\n\u001b[0;32m--> 493\u001b[0;31m             \u001b[0mresult\u001b[0m \u001b[0;34m=\u001b[0m \u001b[0mself\u001b[0m\u001b[0;34m.\u001b[0m\u001b[0mforward\u001b[0m\u001b[0;34m(\u001b[0m\u001b[0;34m*\u001b[0m\u001b[0minput\u001b[0m\u001b[0;34m,\u001b[0m \u001b[0;34m**\u001b[0m\u001b[0mkwargs\u001b[0m\u001b[0;34m)\u001b[0m\u001b[0;34m\u001b[0m\u001b[0;34m\u001b[0m\u001b[0m\n\u001b[0m\u001b[1;32m    494\u001b[0m         \u001b[0;32mfor\u001b[0m \u001b[0mhook\u001b[0m \u001b[0;32min\u001b[0m \u001b[0mself\u001b[0m\u001b[0;34m.\u001b[0m\u001b[0m_forward_hooks\u001b[0m\u001b[0;34m.\u001b[0m\u001b[0mvalues\u001b[0m\u001b[0;34m(\u001b[0m\u001b[0;34m)\u001b[0m\u001b[0;34m:\u001b[0m\u001b[0;34m\u001b[0m\u001b[0;34m\u001b[0m\u001b[0m\n\u001b[1;32m    495\u001b[0m             \u001b[0mhook_result\u001b[0m \u001b[0;34m=\u001b[0m \u001b[0mhook\u001b[0m\u001b[0;34m(\u001b[0m\u001b[0mself\u001b[0m\u001b[0;34m,\u001b[0m \u001b[0minput\u001b[0m\u001b[0;34m,\u001b[0m \u001b[0mresult\u001b[0m\u001b[0;34m)\u001b[0m\u001b[0;34m\u001b[0m\u001b[0;34m\u001b[0m\u001b[0m\n",
      "\u001b[0;31mTypeError\u001b[0m: forward() missing 1 required positional argument: 'indicies'"
     ]
    }
   ],
   "source": [
    "%autoreload 2\n",
    "from trainer import fit\n",
    "fit(online_train_loader, online_test_loader, model, loss_fn, optimizer, scheduler, N_EPOCHS, {}, LOG_INT, metrics=[AverageNonzeroTripletsMetric()])"
   ]
  }
 ],
 "metadata": {
  "kernelspec": {
   "display_name": "Python [conda env:thesis] *",
   "language": "python",
   "name": "conda-env-thesis-py"
  },
  "language_info": {
   "codemirror_mode": {
    "name": "ipython",
    "version": 3
   },
   "file_extension": ".py",
   "mimetype": "text/x-python",
   "name": "python",
   "nbconvert_exporter": "python",
   "pygments_lexer": "ipython3",
   "version": "3.6.8"
  },
  "varInspector": {
   "cols": {
    "lenName": 16,
    "lenType": 16,
    "lenVar": 40
   },
   "kernels_config": {
    "python": {
     "delete_cmd_postfix": "",
     "delete_cmd_prefix": "del ",
     "library": "var_list.py",
     "varRefreshCmd": "print(var_dic_list())"
    },
    "r": {
     "delete_cmd_postfix": ") ",
     "delete_cmd_prefix": "rm(",
     "library": "var_list.r",
     "varRefreshCmd": "cat(var_dic_list()) "
    }
   },
   "types_to_exclude": [
    "module",
    "function",
    "builtin_function_or_method",
    "instance",
    "_Feature"
   ],
   "window_display": false
  }
 },
 "nbformat": 4,
 "nbformat_minor": 2
}
