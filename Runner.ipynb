{
 "cells": [
  {
   "cell_type": "code",
   "execution_count": null,
   "metadata": {},
   "outputs": [],
   "source": [
    "%load_ext autoreload\n",
    "%autoreload 2\n",
    "import torch\n",
    "import numpy as np\n",
    "from datasets import TrainPair, TestPair\n",
    "from recall import Recall\n",
    "from recall import Recall\n",
    "import itertools\n",
    "from tensorboardX import SummaryWriter"
   ]
  },
  {
   "cell_type": "code",
   "execution_count": null,
   "metadata": {},
   "outputs": [],
   "source": [
    "#define hyperparams\n",
    "K, MAX_CLOSE_NEG, P_STRONG_NEG = 5, 15, 1\n",
    "BATCH_SIZE = 1\n",
    "INPUT_D, OUTPUT_D = 192, 128\n",
    "MARGIN, N_EPOCHS, LOG_INT, N_RECALL_CAND = 0.5, 1, 100, 25\n",
    "N_RECALL_SAMPLES = 1000\n",
    "LEARNING_RATE, STEP_SIZE, GAMMA = 1e-3, 15, 0.1"
   ]
  },
  {
   "cell_type": "code",
   "execution_count": 82,
   "metadata": {
    "code_folding": [],
    "scrolled": true
   },
   "outputs": [],
   "source": [
    "# for (LEARNING_RATE, STEP_SIZE, GAMMA) in itertools.product(*hyperparams):\n",
    "#setup datasets\n",
    "cuda = torch.cuda.is_available()\n",
    "pair_train_dataset = TrainPair(5, 10)\n",
    "pair_test_dataset = TestPair(5, 10)\n",
    "pair_train_loader = torch.utils.data.DataLoader(pair_train_dataset, batch_size=BATCH_SIZE, shuffle=True)\n",
    "pair_test_loader = torch.utils.data.DataLoader(pair_test_dataset, batch_size=BATCH_SIZE, shuffle=False)"
   ]
  },
  {
   "cell_type": "code",
   "execution_count": 124,
   "metadata": {
    "code_folding": [],
    "scrolled": true
   },
   "outputs": [
    {
     "name": "stdout",
     "output_type": "stream",
     "text": [
      "pos hammings tensor([1.4647, 1.5161])\n",
      "neg hammings tensor([1.4549, 1.5433])\n",
      "pds tensor([0.0000, 0.5000, 0.5000, 0.0000]) tensor([0.0000, 0.5000, 0.5000, 0.0000]) tensor([0.0000, 0.5000, 0.5000, 0.0000])\n",
      "deriv_triangle [0, 0]\n",
      "parts tensor(-0.2500) 0 tensor([[-0.0565,  0.1163, -0.0785]], grad_fn=<SubBackward0>)\n",
      "itteration 0 tensor(0.) tensor([[0., -0., 0.]]) tensor(0.) tensor([[0., -0., 0.]])\n",
      "---- tensor([[0., 0., 0.]]) ----\n",
      "deriv_triangle [-2.0408163265306123, 0]\n",
      "parts tensor(-0.2500) -2.0408163265306123 tensor([[-0.0565,  0.1163, -0.0785]], grad_fn=<SubBackward0>)\n",
      "itteration 1 tensor(0.) tensor([[-0.0288,  0.0593, -0.0400]]) tensor(0.) tensor([[-0.0288,  0.0593, -0.0400]])\n",
      "---- tensor([[0., 0., 0.]]) ----\n",
      "deriv_triangle [0, 2.0408163265306123]\n",
      "parts tensor(-0.2500) 2.0408163265306123 tensor([[-0.0565,  0.1163, -0.0785]], grad_fn=<SubBackward0>)\n",
      "itteration 2 tensor(0.) tensor([[ 0.0288, -0.0593,  0.0400]]) tensor(0.) tensor([[ 0.0288, -0.0593,  0.0400]])\n",
      "---- tensor([[0., 0., 0.]]) ----\n",
      "deriv_triangle [0, 0]\n",
      "parts tensor(-0.2500) 0 tensor([[-0.0565,  0.1163, -0.0785]], grad_fn=<SubBackward0>)\n",
      "itteration 3 tensor(0.) tensor([[0., -0., 0.]]) tensor(0.) tensor([[0., -0., 0.]])\n",
      "---- tensor([[0., 0., 0.]]) ----\n",
      "loss derivative tensor([[-0., -0., -0.]])\n",
      "Train: [0/1 (0%)]\tLoss: 0.000000\n"
     ]
    }
   ],
   "source": [
    "from losses import MutualInfoLoss\n",
    "from networks import HammingEmbed\n",
    "import torch.optim as optim\n",
    "from torch.optim import lr_scheduler\n",
    "from trainer import fit\n",
    "\n",
    "model = HammingEmbed(INPUT_D, OUTPUT_D)\n",
    "\n",
    "if cuda:\n",
    "    print(\"GPU Enabled\")\n",
    "    model.cuda()\n",
    "\n",
    "loss_fn = MutualInfoLoss()\n",
    "optimizer = optim.Adam(model.parameters(), lr=LEARNING_RATE, weight_decay=1e-4)\n",
    "scheduler = lr_scheduler.StepLR(optimizer, step_size=STEP_SIZE, gamma=GAMMA, last_epoch=-1)\n",
    "#run the model\n",
    "train_loss, val_loss = fit(pair_train_loader, pair_test_loader, model, loss_fn, optimizer, scheduler, N_EPOCHS, cuda, LOG_INT)"
   ]
  },
  {
   "cell_type": "code",
   "execution_count": 61,
   "metadata": {},
   "outputs": [],
   "source": [
    "#computes the recall on datasets using global variables such as model and recall\n",
    "def measure_recall(datasets):\n",
    "    outputs = []\n",
    "    for d in datasets:\n",
    "        batch_indicies = np.random.choice(list(range(0, d.data.shape[0])), N_RECALL_SAMPLES, False)\n",
    "        queries = d.data[batch_indicies]\n",
    "        knns_of_batch = d.KNN.iloc[batch_indicies, :]\n",
    "        outputs.append(recall.calculate(d.data, model, queries, knns_of_batch, False))\n",
    "    return [np.mean(x) for x in outputs]"
   ]
  },
  {
   "cell_type": "code",
   "execution_count": null,
   "metadata": {
    "code_folding": [],
    "scrolled": true
   },
   "outputs": [],
   "source": [
    "#measure recall\n",
    "recall = Recall(N_RECALL_CAND, K)\n",
    "train_recall, val_recall = measure_recall([pair_train_dataset, pair_test_dataset])\n",
    "#write to tensorboard\n",
    "with SummaryWriter() as w:\n",
    "    w.add_hparams(\n",
    "        {'LEARNING_RATE': LEARNING_RATE, 'GAMMA': GAMMA, 'STEP_SIZE': STEP_SIZE, 'BSIZE': BATCH_SIZE, 'N_RECALL_S': N_RECALL_SAMPLES, 'N_RECALL_CAND': N_RECALL_CAND,\n",
    "             'CLOSE_NEG': MAX_CLOSE_NEG, 'P_STRONG_NEG': P_STRONG_NEG, 'OUTPUT_D': OUTPUT_D},\n",
    "        {'TRAIN_L': train_loss, 'VAL_L': val_loss, 'TRAIN_RECALL': train_recall, 'VAL_RECALL': val_recall})\n",
    "train_recall, val_recall"
   ]
  },
  {
   "cell_type": "code",
   "execution_count": null,
   "metadata": {},
   "outputs": [],
   "source": [
    "# import matplotlib\n",
    "# matplotlib.pyplot.pie([len(x) for x in recall.bucket_hash.hash.values()]);"
   ]
  },
  {
   "cell_type": "code",
   "execution_count": null,
   "metadata": {},
   "outputs": [],
   "source": [
    "import matplotlib.pyplot\n",
    "temp = torch.stack([model(pair_train_dataset.data[i]) for i in pair_train_dataset.KNN.iloc[0][:10]])\n",
    "hammings = (128 - (temp[0] * temp).sum(1))/2\n",
    "print(hammings)\n",
    "matplotlib.pyplot.hist(hammings.detach().numpy());"
   ]
  },
  {
   "cell_type": "code",
   "execution_count": 75,
   "metadata": {},
   "outputs": [
    {
     "name": "stdout",
     "output_type": "stream",
     "text": [
      "tensor([64.0147, 63.9522, 64.0475, 63.9494], grad_fn=<DivBackward0>)\n"
     ]
    },
    {
     "data": {
      "image/png": "[encoded data removed]",
      "text/plain": [
       "<Figure size 432x288 with 1 Axes>"
      ]
     },
     "metadata": {
      "needs_background": "light"
     },
     "output_type": "display_data"
    }
   ],
   "source": [
    "import matplotlib.pyplot\n",
    "anchor = model(torch.tensor([0.,0.,0.,0.,0.]))\n",
    "pairs = model(torch.tensor([[-1.,-1.,-1.,-1.,-1.], [1.,1.,1.,1.,1.], [-10.,-10.,-10.,-10.,-10.], [10.,10.,10.,10.,10.]]))\n",
    "hammings = (128 - (anchor * pairs).sum(1))/2\n",
    "print(hammings)\n",
    "matplotlib.pyplot.hist(hammings.detach().numpy());"
   ]
  },
  {
   "cell_type": "code",
   "execution_count": 127,
   "metadata": {},
   "outputs": [
    {
     "data": {
      "text/plain": [
       "0"
      ]
     },
     "execution_count": 127,
     "metadata": {},
     "output_type": "execute_result"
    }
   ],
   "source": [
    "def deriv_triangle(d,l):\n",
    "        delta = 0.49\n",
    "        if (l - delta) <= d < l:\n",
    "            return 1/delta\n",
    "        elif l <= d <= (l + delta):\n",
    "            return -1/delta\n",
    "        else:\n",
    "            return 0\n",
    "deriv_triangle(1.4647, 2)"
   ]
  },
  {
   "cell_type": "code",
   "execution_count": null,
   "metadata": {},
   "outputs": [],
   "source": []
  }
 ],
 "metadata": {
  "kernelspec": {
   "display_name": "Python 3",
   "language": "python",
   "name": "python3"
  },
  "language_info": {
   "codemirror_mode": {
    "name": "ipython",
    "version": 3
   },
   "file_extension": ".py",
   "mimetype": "text/x-python",
   "name": "python",
   "nbconvert_exporter": "python",
   "pygments_lexer": "ipython3",
   "version": "3.6.8"
  },
  "varInspector": {
   "cols": {
    "lenName": 16,
    "lenType": 16,
    "lenVar": 40
   },
   "kernels_config": {
    "python": {
     "delete_cmd_postfix": "",
     "delete_cmd_prefix": "del ",
     "library": "var_list.py",
     "varRefreshCmd": "print(var_dic_list())"
    },
    "r": {
     "delete_cmd_postfix": ") ",
     "delete_cmd_prefix": "rm(",
     "library": "var_list.r",
     "varRefreshCmd": "cat(var_dic_list()) "
    }
   },
   "position": {
    "height": "415px",
    "left": "1550px",
    "right": "20px",
    "top": "120px",
    "width": "350px"
   },
   "types_to_exclude": [
    "module",
    "function",
    "builtin_function_or_method",
    "instance",
    "_Feature"
   ],
   "window_display": false
  }
 },
 "nbformat": 4,
 "nbformat_minor": 4
}
