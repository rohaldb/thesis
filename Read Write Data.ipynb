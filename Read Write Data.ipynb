{
 "cells": [
  {
   "cell_type": "code",
   "execution_count": 152,
   "metadata": {},
   "outputs": [],
   "source": [
    "#imports and constants\n",
    "import numpy as np\n",
    "import pandas as pd\n",
    "from sklearn.model_selection import train_test_split \n",
    "from sklearn.neighbors import NearestNeighbors\n",
    "\n",
    "KNN = 5"
   ]
  },
  {
   "cell_type": "code",
   "execution_count": 153,
   "metadata": {},
   "outputs": [],
   "source": [
    "def fvecs_read(filename, c_contiguous=True):\n",
    "    fv = np.fromfile(filename, dtype=np.float32)\n",
    "    if fv.size == 0:\n",
    "        return np.zeros((0, 0))\n",
    "    dim = fv.view(np.int32)[0]\n",
    "    assert dim > 0\n",
    "    fv = fv.reshape(-1, 1 + dim)\n",
    "    if not all(fv.view(np.int32)[:, 0] == dim):\n",
    "        raise IOError(\"Non-uniform vector sizes in \" + filename)\n",
    "    fv = fv[:, 1:]\n",
    "    if c_contiguous:\n",
    "        fv = fv.copy()\n",
    "    return fv\n",
    "\n",
    "def fvecs_write(data, filename):\n",
    "    n, d = data.shape\n",
    "    data_to_file = np.empty((n, d+1), np.float32)\n",
    "    data_to_file.view(np.int32)[:, 0] = d\n",
    "    data_to_file[:, 1:] = data\n",
    "    data_to_file.tofile(filename)"
   ]
  },
  {
   "cell_type": "code",
   "execution_count": 154,
   "metadata": {},
   "outputs": [
    {
     "data": {
      "text/plain": [
       "array([[54343., 29776., 61789., ..., 48916., 51402., 58398.],\n",
       "       [61316., 65420., 56087., ..., 64560., 52845., 54574.],\n",
       "       [40361., 62775., 60291., ..., 46604., 59174., 54336.],\n",
       "       ...,\n",
       "       [43378., 31941., 63146., ..., 49708., 56622., 58992.],\n",
       "       [55945., 66552., 53190., ..., 55152., 58037., 55757.],\n",
       "       [65975., 64302., 53143., ..., 58365., 57474., 53535.]],\n",
       "      dtype=float32)"
      ]
     },
     "execution_count": 154,
     "metadata": {},
     "output_type": "execute_result"
    }
   ],
   "source": [
    "data = fvecs_read(\"audio_base.fvecs\") #read in the data\n",
    "data"
   ]
  },
  {
   "cell_type": "code",
   "execution_count": 155,
   "metadata": {},
   "outputs": [],
   "source": [
    "trainData, queryData = train_test_split(data, test_size=0.1) # split the data into training and test"
   ]
  },
  {
   "cell_type": "code",
   "execution_count": 191,
   "metadata": {},
   "outputs": [
    {
     "name": "stdout",
     "output_type": "stream",
     "text": [
      "CPU times: user 702 ms, sys: 13.1 ms, total: 715 ms\n",
      "Wall time: 716 ms\n"
     ]
    }
   ],
   "source": [
    "%%time\n",
    "df = pd.Series((q for q in queryData[0:2])).to_frame(name=\"queryPoint\")\n",
    "df['KNN'] = \"\"\n",
    "# df['rest'] = \"\"\n",
    "# setOfIndicies = set(range(0,trainData.shape[0]))\n",
    "neigh = NearestNeighbors(n_neighbors=KNN)\n",
    "neigh.fit(trainData) \n",
    "NearestNeighbors(algorithm='auto', leaf_size=30, metric='euclidean')\n",
    "#for each query item, compute the KNN distances\n",
    "for index, row in df.iterrows():\n",
    "    row['KNN'] = neigh.kneighbors([row['queryPoint']])[1][0] #store the indicies of the KNN's in KNN field\n",
    "#     row['rest'] = setOfIndicies - set(row['KNN']) #compute the rest by set difference"
   ]
  },
  {
   "cell_type": "code",
   "execution_count": 192,
   "metadata": {},
   "outputs": [
    {
     "data": {
      "text/html": [
       "<div>\n",
       "<style scoped>\n",
       "    .dataframe tbody tr th:only-of-type {\n",
       "        vertical-align: middle;\n",
       "    }\n",
       "\n",
       "    .dataframe tbody tr th {\n",
       "        vertical-align: top;\n",
       "    }\n",
       "\n",
       "    .dataframe thead th {\n",
       "        text-align: right;\n",
       "    }\n",
       "</style>\n",
       "<table border=\"1\" class=\"dataframe\">\n",
       "  <thead>\n",
       "    <tr style=\"text-align: right;\">\n",
       "      <th></th>\n",
       "      <th>queryPoint</th>\n",
       "      <th>KNN</th>\n",
       "    </tr>\n",
       "  </thead>\n",
       "  <tbody>\n",
       "    <tr>\n",
       "      <th>0</th>\n",
       "      <td>[46319.0, 45374.0, 62284.0, 59239.0, 55504.0, ...</td>\n",
       "      <td>[38209, 5709, 600, 33236, 8180]</td>\n",
       "    </tr>\n",
       "    <tr>\n",
       "      <th>1</th>\n",
       "      <td>[79884.0, 56648.0, 48408.0, 52091.0, 56305.0, ...</td>\n",
       "      <td>[31257, 20534, 11323, 17796, 36734]</td>\n",
       "    </tr>\n",
       "  </tbody>\n",
       "</table>\n",
       "</div>"
      ],
      "text/plain": [
       "                                          queryPoint  \\\n",
       "0  [46319.0, 45374.0, 62284.0, 59239.0, 55504.0, ...   \n",
       "1  [79884.0, 56648.0, 48408.0, 52091.0, 56305.0, ...   \n",
       "\n",
       "                                   KNN  \n",
       "0      [38209, 5709, 600, 33236, 8180]  \n",
       "1  [31257, 20534, 11323, 17796, 36734]  "
      ]
     },
     "execution_count": 192,
     "metadata": {},
     "output_type": "execute_result"
    }
   ],
   "source": [
    "\n",
    "df"
   ]
  },
  {
   "cell_type": "code",
   "execution_count": null,
   "metadata": {},
   "outputs": [],
   "source": []
  }
 ],
 "metadata": {
  "kernelspec": {
   "display_name": "Python [conda env:thesis] *",
   "language": "python",
   "name": "conda-env-thesis-py"
  },
  "language_info": {
   "codemirror_mode": {
    "name": "ipython",
    "version": 3
   },
   "file_extension": ".py",
   "mimetype": "text/x-python",
   "name": "python",
   "nbconvert_exporter": "python",
   "pygments_lexer": "ipython3",
   "version": "3.6.8"
  }
 },
 "nbformat": 4,
 "nbformat_minor": 2
}
