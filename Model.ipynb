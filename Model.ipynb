{
 "cells": [
  {
   "cell_type": "code",
   "execution_count": 175,
   "metadata": {},
   "outputs": [],
   "source": [
    "# https://github.com/llSourcell/pytorch_in_5_minutes/blob/master/demo.py\n",
    "\n",
    "import torch\n",
    "from torch.autograd import Variable\n",
    "import pandas as pd\n",
    "from random import randint\n",
    "from ast import literal_eval\n",
    "\n",
    "# dtype = torch.cuda.FloatTensor # Uncomment this to run on GPU"
   ]
  },
  {
   "cell_type": "code",
   "execution_count": 228,
   "metadata": {
    "scrolled": true
   },
   "outputs": [],
   "source": [
    "#read in relevant data\n",
    "trainData = np.loadtxt('data/trainData.txt', dtype=np.float32)\n",
    "queryData = np.loadtxt('data/queryData.txt', dtype=np.float32)\n",
    "df =  pd.read_pickle(\"./data/KNN.pkl\")"
   ]
  },
  {
   "cell_type": "code",
   "execution_count": 231,
   "metadata": {},
   "outputs": [],
   "source": [
    "K = 5\n",
    "def generateTripplet(index):\n",
    "    point = queryData[index]\n",
    "    pos = trainData[df.iloc[index].KNN[randint(0,K)]]\n",
    "    neg = trainData[df.iloc[index].KNN[randint(K, len(df)-1)]]\n",
    "    return point, pos, neg"
   ]
  },
  {
   "cell_type": "code",
   "execution_count": 242,
   "metadata": {},
   "outputs": [],
   "source": [
    "# BATCH_SIZE is batch size; INPUT_D is input dimension; HIDDEN_D is hidden dimension; \n",
    "BATCH_SIZE, INPUT_D, HIDDEN_D = 1, 5, 4\n",
    "ALPHA = 0.5\n",
    "\n",
    "# Create random Tensors to hold input and outputs, and wrap them in Variables.\n",
    "# Setting requires_grad=False indicates that we do not need to compute gradients\n",
    "# with respect to these Variables during the backward pass.\n",
    "x = Variable(torch.randn(INPUT_D).type(dtype), requires_grad=False)\n",
    "\n",
    "# Create random Tensor for weights, and wrap them in Variables.\n",
    "# Setting requires_grad=True indicates that we want to compute gradients with\n",
    "# respect to these Variables during the backward pass.\n",
    "anchors = Variable(torch.randn(HIDDEN_D, INPUT_D).type(dtype), requires_grad=True)\n",
    "biases = Variable(torch.randn(INPUT_D).type(dtype), requires_grad=True)"
   ]
  },
  {
   "cell_type": "code",
   "execution_count": 154,
   "metadata": {},
   "outputs": [],
   "source": [
    "def forward_pass(dataPoint):\n",
    "    y = Variable(torch.zeros(HIDDEN_D).type(dtype), requires_grad=False)\n",
    "    for index, row in enumerate(anchors):\n",
    "        z = torch.norm(x.unsqueeze(0) - row.unsqueeze(0), 2, 1) - biases[index]\n",
    "        y[index] = nn.functional.relu(z)\n",
    "    print(y)\n",
    "    return y"
   ]
  },
  {
   "cell_type": "code",
   "execution_count": 155,
   "metadata": {},
   "outputs": [
    {
     "name": "stdout",
     "output_type": "stream",
     "text": [
      "tensor([1., 1., 1., 1.])\n",
      "tensor([1., 1., 1., 1.])\n",
      "tensor([1., 1., 1., 1.])\n"
     ]
    }
   ],
   "source": [
    "learning_rate = 1e-6\n",
    "for t in range(1):\n",
    "    index = 0\n",
    "    point, pos, neg = generateTripplet(index)\n",
    "    \n",
    "    pointMapped, posMapped, negMapped = [forward_pass(x) for x in [point, pos, neg]]\n",
    "    \n",
    "#     # Compute and print loss using operations on Variables.\n",
    "#     # Now loss is a Variable of shape (1,) and loss.data is a Tensor of shape\n",
    "#     # (1,); loss.data[0] is a scalar value holding the loss.\n",
    "    pos_neg_diff = (torch.norm(pointMapped-posMapped, 2, 1).pow(2) - torch.norm(pointMapped-negMapped, 2, 1).pow(2) + ALPHA)\n",
    "    loss = nn.functional.relu(pos_neg_diff).sum()\n",
    "#     print(t, loss.data[0])\n",
    "\n",
    "#     # Use autograd to compute the backward pass. This call will compute the\n",
    "#     # gradient of loss with respect to all Variables with requires_grad=True.\n",
    "#     # After this call w1.grad will be Variables holding the gradient\n",
    "#     # of the loss with respect to w1\n",
    "#     loss.backward()\n",
    "\n",
    "#     # Update weights using gradient descent; w1.data and w2.data are Tensors,\n",
    "#     # w1.grad is Variable and w1.grad.data and w2.grad.data are\n",
    "#     # Tensors.\n",
    "#     w1.data -= learning_rate * w1.grad.data\n",
    "\n",
    "#     # Manually zero the gradients \n",
    "#     w1.grad.data.zero_()"
   ]
  },
  {
   "cell_type": "code",
   "execution_count": 137,
   "metadata": {},
   "outputs": [
    {
     "data": {
      "text/plain": [
       "tensor([1., 1., 1., 1.])"
      ]
     },
     "execution_count": 137,
     "metadata": {},
     "output_type": "execute_result"
    }
   ],
   "source": [
    "y"
   ]
  },
  {
   "cell_type": "code",
   "execution_count": 100,
   "metadata": {
    "scrolled": true
   },
   "outputs": [
    {
     "name": "stdout",
     "output_type": "stream",
     "text": [
      "tensor([-0.5480,  0.0176])\n",
      "tensor([-1.4723, -0.6884])\n",
      "tensor([-0.4463,  0.9765])\n",
      "tensor([[-0.5480, -1.4723, -0.4463],\n",
      "        [ 0.0176, -0.6884,  0.9765]])\n"
     ]
    }
   ],
   "source": [
    "c = torch.randn(2,3)\n",
    "for p in c.transpose(0,1):\n",
    "    print(p)\n",
    "    \n",
    "print(c)"
   ]
  },
  {
   "cell_type": "code",
   "execution_count": 22,
   "metadata": {},
   "outputs": [
    {
     "data": {
      "text/plain": [
       "tensor([[0.1623, 0.4520]])"
      ]
     },
     "execution_count": 22,
     "metadata": {},
     "output_type": "execute_result"
    }
   ],
   "source": [
    "c"
   ]
  },
  {
   "cell_type": "code",
   "execution_count": 89,
   "metadata": {
    "scrolled": true
   },
   "outputs": [
    {
     "data": {
      "text/plain": [
       "tensor([[-0.1684,  0.2113, -0.7840],\n",
       "        [-0.6723, -0.8443, -0.9174]])"
      ]
     },
     "execution_count": 89,
     "metadata": {},
     "output_type": "execute_result"
    }
   ],
   "source": [
    "torch.randn(2,3)"
   ]
  },
  {
   "cell_type": "code",
   "execution_count": 147,
   "metadata": {},
   "outputs": [
    {
     "data": {
      "text/plain": [
       "(tensor([[1., 4.]]), tensor([[1., 7.]]), tensor([9.]))"
      ]
     },
     "execution_count": 147,
     "metadata": {},
     "output_type": "execute_result"
    }
   ],
   "source": [
    "a = torch.tensor([1.,4.]).unsqueeze(0)\n",
    "b = torch.tensor([1.,7.]).unsqueeze(0)\n",
    "c = torch.norm(a-b, 2, 1).pow(2)\n",
    "a,b,c"
   ]
  },
  {
   "cell_type": "code",
   "execution_count": 90,
   "metadata": {},
   "outputs": [
    {
     "data": {
      "text/plain": [
       "(tensor([[0.8959, 0.5328, 0.3889],\n",
       "         [0.1504, 0.5749, 0.9496]]),\n",
       " tensor([0.8959, 0.1504]),\n",
       " tensor([0.8959, 0.5328, 0.3889]))"
      ]
     },
     "execution_count": 90,
     "metadata": {},
     "output_type": "execute_result"
    }
   ],
   "source": [
    "a = torch.rand(2,3)\n",
    "a, a[:, 0], a[0,:]"
   ]
  },
  {
   "cell_type": "code",
   "execution_count": 148,
   "metadata": {},
   "outputs": [
    {
     "data": {
      "text/plain": [
       "tensor([ 1., 28.])"
      ]
     },
     "execution_count": 148,
     "metadata": {},
     "output_type": "execute_result"
    }
   ],
   "source": [
    "torch.tensor([1.,4.]) * torch.tensor([1.,7.])"
   ]
  },
  {
   "cell_type": "code",
   "execution_count": 265,
   "metadata": {},
   "outputs": [],
   "source": [
    "p = torch.tensor([1., -1.], requires_grad=True)\n",
    "q = nn.functional.relu(p)"
   ]
  },
  {
   "cell_type": "code",
   "execution_count": 266,
   "metadata": {},
   "outputs": [
    {
     "name": "stdout",
     "output_type": "stream",
     "text": [
      "tensor([1., 0.], grad_fn=<ReluBackward0>)\n"
     ]
    }
   ],
   "source": [
    "print(q)"
   ]
  },
  {
   "cell_type": "code",
   "execution_count": null,
   "metadata": {},
   "outputs": [],
   "source": []
  }
 ],
 "metadata": {
  "kernelspec": {
   "display_name": "Python 3",
   "language": "python",
   "name": "python3"
  },
  "language_info": {
   "codemirror_mode": {
    "name": "ipython",
    "version": 3
   },
   "file_extension": ".py",
   "mimetype": "text/x-python",
   "name": "python",
   "nbconvert_exporter": "python",
   "pygments_lexer": "ipython3",
   "version": "3.6.8"
  }
 },
 "nbformat": 4,
 "nbformat_minor": 2
}
