{
 "cells": [
  {
   "cell_type": "markdown",
   "metadata": {},
   "source": [
    "### Model\n",
    "- Input: 1x192\n",
    "- Weights: 192xn\n",
    "- Hidden Layer: \n",
    "    - 1x192\n",
    "    - Each node will depend on a 192 dimensional set of $\\lambda_i$'s which we will need to update\n",
    "    - Node op is $sgn(||x-\\lambda||_2-\\theta)$\n",
    "- Output layer: d dim binary vec\n",
    "\n",
    "### Loss\n",
    "- for each training example generate a positive and a negative example. The loss should minimise the triplet loss of the three\n",
    "\n",
    "### Training:\n",
    "\n",
    "Split the training data into 90% data and 10% query. I need to compute the KNN for each query point in the data section. I "
   ]
  },
  {
   "cell_type": "code",
   "execution_count": null,
   "metadata": {},
   "outputs": [],
   "source": []
  }
 ],
 "metadata": {
  "kernelspec": {
   "display_name": "Python 3",
   "language": "python",
   "name": "python3"
  },
  "language_info": {
   "codemirror_mode": {
    "name": "ipython",
    "version": 3
   },
   "file_extension": ".py",
   "mimetype": "text/x-python",
   "name": "python",
   "nbconvert_exporter": "python",
   "pygments_lexer": "ipython3",
   "version": "3.6.8"
  }
 },
 "nbformat": 4,
 "nbformat_minor": 2
}
