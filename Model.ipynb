{
 "cells": [
  {
   "cell_type": "code",
   "execution_count": 1,
   "metadata": {},
   "outputs": [],
   "source": [
    "# https://github.com/llSourcell/pytorch_in_5_minutes/blob/master/demo.py\n",
    "\n",
    "import torch\n",
    "from torch.autograd import Variable\n",
    "import pandas as pd\n",
    "from random import randint\n",
    "import numpy as np\n",
    "import torch.nn as nn\n",
    "# from torchviz import make_dot # used for grad visualization\n",
    "import torch.optim as optim"
   ]
  },
  {
   "cell_type": "code",
   "execution_count": 2,
   "metadata": {},
   "outputs": [],
   "source": [
    "from torch.autograd import Function\n",
    "from torch.nn.modules.distance import PairwiseDistance\n",
    "\n",
    "class TripletLoss(Function):\n",
    "    \n",
    "    def __init__(self, alpha):\n",
    "        super(TripletLoss, self).__init__()\n",
    "        self.alpha = alpha\n",
    "        self.pdist  = PairwiseDistance(2)\n",
    "        \n",
    "    def forward(self, anchor, positive, negative):\n",
    "        pos_dist   = self.pdist.forward(anchor, positive)#.pow(2)\n",
    "        neg_dist   = self.pdist.forward(anchor, negative)#.pow(2)\n",
    "        hinge_dist = torch.clamp(self.alpha + pos_dist - neg_dist, min = 0.0)\n",
    "        loss       = torch.mean(hinge_dist)\n",
    "        return loss"
   ]
  },
  {
   "cell_type": "code",
   "execution_count": 25,
   "metadata": {
    "scrolled": true
   },
   "outputs": [
    {
     "name": "stdout",
     "output_type": "stream",
     "text": [
      "CPU times: user 4.11 s, sys: 373 ms, total: 4.49 s\n",
      "Wall time: 4.56 s\n"
     ]
    }
   ],
   "source": [
    "%%time\n",
    "#read in relevant data\n",
    "# trainData = torch.from_numpy(np.loadtxt('data/trainData.txt', dtype=np.float32))\n",
    "# queryData = torch.from_numpy(np.loadtxt('data/queryData.txt', dtype=np.float32))\n",
    "# df =  pd.read_pickle(\"./data/KNN.pkl\")\n",
    "df = pd.read_csv('data/KNN.csv', index_col=0) "
   ]
  },
  {
   "cell_type": "code",
   "execution_count": 5,
   "metadata": {},
   "outputs": [],
   "source": [
    "def generateTripplet(index):\n",
    "    point = queryData[index].reshape(-1, 1)\n",
    "#     pos = trainData[df.iloc[index].KNN[randint(0,K)]].reshape(-1, 1) # pos fom KNN\n",
    "#     negIndicies = list(range(K,K + 10)) + list(range(df.shape[0]-10, df.shape[0]-1))\n",
    "#     neg = trainData[df.iloc[index].KNN[np.random.choice(negIndicies)]].reshape(-1, 1)\n",
    "#     neg = trainData[df.iloc[index].KNN[randint(K, df.shape[0]-1)]].reshape(-1, 1)\n",
    "    pos = trainData[df.iloc[index].KNN[0]].reshape(-1, 1) # pos fom KNN\n",
    "    neg = trainData[df.iloc[index].KNN[5004]].reshape(-1, 1)\n",
    "    return point, pos, neg"
   ]
  },
  {
   "cell_type": "code",
   "execution_count": 6,
   "metadata": {},
   "outputs": [],
   "source": [
    "sigmoid = nn.Sigmoid()\n",
    "def forward_pass(query):\n",
    "    return sigmoid(torch.norm(query.t() - anchors, 2, 1).reshape(-1, 1) - biases)"
   ]
  },
  {
   "cell_type": "code",
   "execution_count": 7,
   "metadata": {},
   "outputs": [],
   "source": [
    "BATCH_SIZE, INPUT_D, HIDDEN_D, OUTPUT_D = 32, 192, 128, 128\n",
    "ALPHA = 0.5\n",
    "LEARNING_RATE = 1e-2\n",
    "K = 1\n",
    "\n",
    "def init_model():\n",
    "    print(\"--- Initialising Model Params --- \")\n",
    "    \n",
    "    anchors = Variable(torch.randn(OUTPUT_D, INPUT_D).type(torch.FloatTensor), requires_grad=True)\n",
    "    # weights = Variable(torch.randn(HIDDEN_D, OUTPUT_D).type(torch.FloatTensor), requires_grad=True)\n",
    "\n",
    "    # set biases to be mean value\n",
    "    aggregate = torch.zeros(OUTPUT_D)\n",
    "    for point in queryData:\n",
    "        w0 = torch.norm(point.t() - anchors, 2, 1)\n",
    "        aggregate += w0\n",
    "\n",
    "    biases = Variable((aggregate/queryData.shape[0]).reshape(-1, 1), requires_grad=True)\n",
    "    print(\"--- Done. Begining training ---\")\n",
    "    return anchors, biases"
   ]
  },
  {
   "cell_type": "code",
   "execution_count": 9,
   "metadata": {},
   "outputs": [
    {
     "name": "stdout",
     "output_type": "stream",
     "text": [
      "--- Initialising Model Params --- \n",
      "--- Done. Begining training ---\n",
      "0 tensor(0.5515)\n",
      "1 tensor(0.5330)\n",
      "2 tensor(0.4903)\n",
      "3 tensor(0.4662)\n",
      "4 tensor(0.5382)\n",
      "5 tensor(0.4893)\n",
      "6 tensor(0.5143)\n",
      "7 tensor(0.5322)\n",
      "8 tensor(0.5011)\n",
      "9 tensor(0.4959)\n",
      "10 tensor(0.5773)\n",
      "11 tensor(0.5895)\n",
      "12 tensor(0.4646)\n",
      "13 tensor(0.5448)\n",
      "14 tensor(0.4542)\n",
      "15 tensor(0.4865)\n",
      "16 tensor(0.5417)\n",
      "17 tensor(0.5510)\n",
      "18 tensor(0.5283)\n",
      "19 tensor(0.4010)\n",
      "20 tensor(0.5303)\n",
      "21 tensor(0.5476)\n",
      "22 tensor(0.4685)\n",
      "23 tensor(0.5167)\n",
      "24 tensor(0.5224)\n",
      "25 tensor(0.4803)\n",
      "26 tensor(0.4964)\n",
      "27 tensor(0.5786)\n",
      "28 tensor(0.5564)\n",
      "29 tensor(0.4777)\n",
      "30 tensor(0.5093)\n",
      "31 tensor(0.5122)\n",
      "32 tensor(0.5343)\n",
      "33 tensor(0.4768)\n",
      "34 tensor(0.5135)\n",
      "35 tensor(0.4823)\n",
      "36 tensor(0.4359)\n",
      "37 tensor(0.4699)\n",
      "38 tensor(0.5445)\n",
      "39 tensor(0.5963)\n",
      "40 tensor(0.4577)\n",
      "41 tensor(0.5429)\n",
      "42 tensor(0.5708)\n",
      "43 tensor(0.4736)\n"
     ]
    },
    {
     "ename": "KeyboardInterrupt",
     "evalue": "",
     "output_type": "error",
     "traceback": [
      "\u001b[0;31m---------------------------------------------------------------------------\u001b[0m",
      "\u001b[0;31mKeyboardInterrupt\u001b[0m                         Traceback (most recent call last)",
      "\u001b[0;32m<ipython-input-9-16ce5b728422>\u001b[0m in \u001b[0;36m<module>\u001b[0;34m\u001b[0m\n\u001b[1;32m     22\u001b[0m \u001b[0;34m\u001b[0m\u001b[0m\n\u001b[1;32m     23\u001b[0m     \u001b[0moptimizer\u001b[0m\u001b[0;34m.\u001b[0m\u001b[0mzero_grad\u001b[0m\u001b[0;34m(\u001b[0m\u001b[0;34m)\u001b[0m\u001b[0;34m\u001b[0m\u001b[0;34m\u001b[0m\u001b[0m\n\u001b[0;32m---> 24\u001b[0;31m     \u001b[0mloss\u001b[0m\u001b[0;34m.\u001b[0m\u001b[0mbackward\u001b[0m\u001b[0;34m(\u001b[0m\u001b[0;34m)\u001b[0m\u001b[0;34m\u001b[0m\u001b[0;34m\u001b[0m\u001b[0m\n\u001b[0m\u001b[1;32m     25\u001b[0m     \u001b[0moptimizer\u001b[0m\u001b[0;34m.\u001b[0m\u001b[0mstep\u001b[0m\u001b[0;34m(\u001b[0m\u001b[0;34m)\u001b[0m\u001b[0;34m\u001b[0m\u001b[0;34m\u001b[0m\u001b[0m\n",
      "\u001b[0;32m~/anaconda3/envs/thesis/lib/python3.6/site-packages/torch/tensor.py\u001b[0m in \u001b[0;36mbackward\u001b[0;34m(self, gradient, retain_graph, create_graph)\u001b[0m\n\u001b[1;32m    105\u001b[0m                 \u001b[0mproducts\u001b[0m\u001b[0;34m.\u001b[0m \u001b[0mDefaults\u001b[0m \u001b[0mto\u001b[0m\u001b[0;31m \u001b[0m\u001b[0;31m`\u001b[0m\u001b[0;31m`\u001b[0m\u001b[0;32mFalse\u001b[0m\u001b[0;31m`\u001b[0m\u001b[0;31m`\u001b[0m\u001b[0;34m.\u001b[0m\u001b[0;34m\u001b[0m\u001b[0;34m\u001b[0m\u001b[0m\n\u001b[1;32m    106\u001b[0m         \"\"\"\n\u001b[0;32m--> 107\u001b[0;31m         \u001b[0mtorch\u001b[0m\u001b[0;34m.\u001b[0m\u001b[0mautograd\u001b[0m\u001b[0;34m.\u001b[0m\u001b[0mbackward\u001b[0m\u001b[0;34m(\u001b[0m\u001b[0mself\u001b[0m\u001b[0;34m,\u001b[0m \u001b[0mgradient\u001b[0m\u001b[0;34m,\u001b[0m \u001b[0mretain_graph\u001b[0m\u001b[0;34m,\u001b[0m \u001b[0mcreate_graph\u001b[0m\u001b[0;34m)\u001b[0m\u001b[0;34m\u001b[0m\u001b[0;34m\u001b[0m\u001b[0m\n\u001b[0m\u001b[1;32m    108\u001b[0m \u001b[0;34m\u001b[0m\u001b[0m\n\u001b[1;32m    109\u001b[0m     \u001b[0;32mdef\u001b[0m \u001b[0mregister_hook\u001b[0m\u001b[0;34m(\u001b[0m\u001b[0mself\u001b[0m\u001b[0;34m,\u001b[0m \u001b[0mhook\u001b[0m\u001b[0;34m)\u001b[0m\u001b[0;34m:\u001b[0m\u001b[0;34m\u001b[0m\u001b[0;34m\u001b[0m\u001b[0m\n",
      "\u001b[0;32m~/anaconda3/envs/thesis/lib/python3.6/site-packages/torch/autograd/__init__.py\u001b[0m in \u001b[0;36mbackward\u001b[0;34m(tensors, grad_tensors, retain_graph, create_graph, grad_variables)\u001b[0m\n\u001b[1;32m     91\u001b[0m     Variable._execution_engine.run_backward(\n\u001b[1;32m     92\u001b[0m         \u001b[0mtensors\u001b[0m\u001b[0;34m,\u001b[0m \u001b[0mgrad_tensors\u001b[0m\u001b[0;34m,\u001b[0m \u001b[0mretain_graph\u001b[0m\u001b[0;34m,\u001b[0m \u001b[0mcreate_graph\u001b[0m\u001b[0;34m,\u001b[0m\u001b[0;34m\u001b[0m\u001b[0;34m\u001b[0m\u001b[0m\n\u001b[0;32m---> 93\u001b[0;31m         allow_unreachable=True)  # allow_unreachable flag\n\u001b[0m\u001b[1;32m     94\u001b[0m \u001b[0;34m\u001b[0m\u001b[0m\n\u001b[1;32m     95\u001b[0m \u001b[0;34m\u001b[0m\u001b[0m\n",
      "\u001b[0;31mKeyboardInterrupt\u001b[0m: "
     ]
    }
   ],
   "source": [
    "#training\n",
    "anchors, biases = init_model()\n",
    "optimizer = optim.Adam([anchors, biases], lr=LEARNING_RATE)\n",
    "\n",
    "def train():\n",
    "    for epoch in range(10000):\n",
    "\n",
    "        #generate batch and compute collective loss for batch\n",
    "        # UNSTABLE LEARNING WHEN SAMPLE SIZE > BATCH SIZE\n",
    "        batch_indicies = np.random.choice(queryData.shape[0], BATCH_SIZE, replace=False) \n",
    "\n",
    "        loss = 0\n",
    "        for index in batch_indicies:\n",
    "            query, pos, neg = generateTripplet(index)\n",
    "            queryMapped, posMapped, negMapped = [forward_pass(x) for x in [query, pos, neg]]\n",
    "            triplet_loss = TripletLoss(ALPHA).forward(queryMapped, posMapped, negMapped)\n",
    "            loss += triplet_loss\n",
    "\n",
    "        loss /= BATCH_SIZE # computes mean so learning rate remains the same\n",
    "\n",
    "        print(epoch, loss.data)\n",
    "\n",
    "\n",
    "        optimizer.zero_grad()\n",
    "        loss.backward()\n",
    "        optimizer.step()\n",
    "\n",
    "train()"
   ]
  },
  {
   "cell_type": "code",
   "execution_count": null,
   "metadata": {},
   "outputs": [],
   "source": []
  }
 ],
 "metadata": {
  "kernelspec": {
   "display_name": "Python 3",
   "language": "python",
   "name": "python3"
  },
  "language_info": {
   "codemirror_mode": {
    "name": "ipython",
    "version": 3
   },
   "file_extension": ".py",
   "mimetype": "text/x-python",
   "name": "python",
   "nbconvert_exporter": "python",
   "pygments_lexer": "ipython3",
   "version": "3.6.8"
  }
 },
 "nbformat": 4,
 "nbformat_minor": 2
}
